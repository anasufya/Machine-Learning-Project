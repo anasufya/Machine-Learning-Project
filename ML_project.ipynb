{
 "cells": [
  {
   "cell_type": "markdown",
   "metadata": {},
   "source": [
    "## IMPORT LIBRARIES"
   ]
  },
  {
   "cell_type": "code",
   "execution_count": 1,
   "metadata": {},
   "outputs": [],
   "source": [
    "import pandas as pd\n",
    "import numpy as np\n",
    "import scipy as sp\n",
    "import seaborn as sns\n",
    "import matplotlib.pyplot as plt\n",
    "import statsmodels as sm\n",
    "from pandas.plotting import scatter_matrix\n",
    "import os\n",
    "import csv\n",
    "from zipfile import ZipFile\n",
    "from datetime import datetime\n",
    "from sklearn import preprocessing\n",
    "from sklearn.impute import KNNImputer\n",
    "from pandas_profiling import ProfileReport\n",
    "from sklearn.model_selection import train_test_split, StratifiedKFold, GridSearchCV\n",
    "from sklearn.preprocessing import StandardScaler, RobustScaler, MinMaxScaler\n",
    "from sklearn.linear_model import LinearRegression, LogisticRegression, LassoCV, RidgeCV, PassiveAggressiveClassifier\n",
    "from sklearn.feature_selection import RFE\n",
    "from sklearn.neighbors import KNeighborsClassifier, NearestCentroid, NeighborhoodComponentsAnalysis\n",
    "from sklearn.decomposition import PCA\n",
    "from sklearn.tree import DecisionTreeRegressor\n",
    "from sklearn.tree import DecisionTreeClassifier\n",
    "from sklearn.neural_network import MLPClassifier\n",
    "from itertools import combinations_with_replacement\n",
    "from sklearn.naive_bayes import GaussianNB\n",
    "from sklearn.svm import SVC\n",
    "from sklearn.ensemble import RandomForestClassifier\n",
    "from sklearn.ensemble import BaggingClassifier\n",
    "from sklearn.ensemble import GradientBoostingClassifier, AdaBoostClassifier, VotingClassifier, StackingClassifier"
   ]
  },
  {
   "cell_type": "markdown",
   "metadata": {},
   "source": [
    "## IMPORT DATASETS"
   ]
  },
  {
   "cell_type": "code",
   "execution_count": 2,
   "metadata": {},
   "outputs": [],
   "source": [
    "Test=pd.read_excel('Test.xlsx',sheet_name='Sheet1')\n",
    "Train=pd.read_excel('Train.xlsx',sheet_name='Sheet1')"
   ]
  },
  {
   "cell_type": "markdown",
   "metadata": {},
   "source": [
    "## EXPLORE"
   ]
  },
  {
   "cell_type": "markdown",
   "metadata": {},
   "source": [
    "### DATA EXPLORATION"
   ]
  },
  {
   "cell_type": "code",
   "execution_count": 3,
   "metadata": {},
   "outputs": [
    {
     "data": {
      "text/plain": [
       "(22400, 15)"
      ]
     },
     "execution_count": 3,
     "metadata": {},
     "output_type": "execute_result"
    }
   ],
   "source": [
    "Train.shape"
   ]
  },
  {
   "cell_type": "code",
   "execution_count": 4,
   "metadata": {},
   "outputs": [
    {
     "data": {
      "text/plain": [
       "(10100, 14)"
      ]
     },
     "execution_count": 4,
     "metadata": {},
     "output_type": "execute_result"
    }
   ],
   "source": [
    "Test.shape"
   ]
  },
  {
   "cell_type": "code",
   "execution_count": 5,
   "metadata": {},
   "outputs": [
    {
     "data": {
      "text/plain": [
       "Index(['CITIZEN_ID', 'Name', 'Birthday', 'Native Continent', 'Marital Status',\n",
       "       'Lives with', 'Base Area', 'Education Level', 'Years of Education',\n",
       "       'Employment Sector', 'Role', 'Working Hours per week', 'Money Received',\n",
       "       'Ticket Price', 'Income'],\n",
       "      dtype='object')"
      ]
     },
     "execution_count": 5,
     "metadata": {},
     "output_type": "execute_result"
    }
   ],
   "source": [
    "Train.columns"
   ]
  },
  {
   "cell_type": "code",
   "execution_count": 6,
   "metadata": {},
   "outputs": [
    {
     "data": {
      "text/plain": [
       "Index(['CITIZEN_ID', 'Name', 'Birthday', 'Native Continent', 'Marital Status',\n",
       "       'Lives with', 'Base Area', 'Education Level', 'Years of Education',\n",
       "       'Employment Sector', 'Role', 'Working Hours per week', 'Money Received',\n",
       "       'Ticket Price'],\n",
       "      dtype='object')"
      ]
     },
     "execution_count": 6,
     "metadata": {},
     "output_type": "execute_result"
    }
   ],
   "source": [
    "Test.columns"
   ]
  },
  {
   "cell_type": "code",
   "execution_count": 7,
   "metadata": {},
   "outputs": [
    {
     "data": {
      "text/html": [
       "<div>\n",
       "<style scoped>\n",
       "    .dataframe tbody tr th:only-of-type {\n",
       "        vertical-align: middle;\n",
       "    }\n",
       "\n",
       "    .dataframe tbody tr th {\n",
       "        vertical-align: top;\n",
       "    }\n",
       "\n",
       "    .dataframe thead th {\n",
       "        text-align: right;\n",
       "    }\n",
       "</style>\n",
       "<table border=\"1\" class=\"dataframe\">\n",
       "  <thead>\n",
       "    <tr style=\"text-align: right;\">\n",
       "      <th></th>\n",
       "      <th>CITIZEN_ID</th>\n",
       "      <th>Years of Education</th>\n",
       "      <th>Working Hours per week</th>\n",
       "      <th>Money Received</th>\n",
       "      <th>Ticket Price</th>\n",
       "      <th>Income</th>\n",
       "    </tr>\n",
       "  </thead>\n",
       "  <tbody>\n",
       "    <tr>\n",
       "      <th>count</th>\n",
       "      <td>22400.000000</td>\n",
       "      <td>22400.000000</td>\n",
       "      <td>22400.000000</td>\n",
       "      <td>22400.000000</td>\n",
       "      <td>22400.000000</td>\n",
       "      <td>22400.000000</td>\n",
       "    </tr>\n",
       "    <tr>\n",
       "      <th>mean</th>\n",
       "      <td>23685.500000</td>\n",
       "      <td>13.173884</td>\n",
       "      <td>40.483795</td>\n",
       "      <td>1324.915357</td>\n",
       "      <td>109.145313</td>\n",
       "      <td>0.237098</td>\n",
       "    </tr>\n",
       "    <tr>\n",
       "      <th>std</th>\n",
       "      <td>6466.467351</td>\n",
       "      <td>2.512451</td>\n",
       "      <td>12.370921</td>\n",
       "      <td>9227.771813</td>\n",
       "      <td>500.208904</td>\n",
       "      <td>0.425313</td>\n",
       "    </tr>\n",
       "    <tr>\n",
       "      <th>min</th>\n",
       "      <td>12486.000000</td>\n",
       "      <td>2.000000</td>\n",
       "      <td>1.000000</td>\n",
       "      <td>0.000000</td>\n",
       "      <td>0.000000</td>\n",
       "      <td>0.000000</td>\n",
       "    </tr>\n",
       "    <tr>\n",
       "      <th>25%</th>\n",
       "      <td>18085.750000</td>\n",
       "      <td>12.000000</td>\n",
       "      <td>40.000000</td>\n",
       "      <td>0.000000</td>\n",
       "      <td>0.000000</td>\n",
       "      <td>0.000000</td>\n",
       "    </tr>\n",
       "    <tr>\n",
       "      <th>50%</th>\n",
       "      <td>23685.500000</td>\n",
       "      <td>13.000000</td>\n",
       "      <td>40.000000</td>\n",
       "      <td>0.000000</td>\n",
       "      <td>0.000000</td>\n",
       "      <td>0.000000</td>\n",
       "    </tr>\n",
       "    <tr>\n",
       "      <th>75%</th>\n",
       "      <td>29285.250000</td>\n",
       "      <td>15.000000</td>\n",
       "      <td>45.000000</td>\n",
       "      <td>0.000000</td>\n",
       "      <td>0.000000</td>\n",
       "      <td>0.000000</td>\n",
       "    </tr>\n",
       "    <tr>\n",
       "      <th>max</th>\n",
       "      <td>34885.000000</td>\n",
       "      <td>21.000000</td>\n",
       "      <td>99.000000</td>\n",
       "      <td>122999.000000</td>\n",
       "      <td>5358.000000</td>\n",
       "      <td>1.000000</td>\n",
       "    </tr>\n",
       "  </tbody>\n",
       "</table>\n",
       "</div>"
      ],
      "text/plain": [
       "         CITIZEN_ID  Years of Education  Working Hours per week  \\\n",
       "count  22400.000000        22400.000000            22400.000000   \n",
       "mean   23685.500000           13.173884               40.483795   \n",
       "std     6466.467351            2.512451               12.370921   \n",
       "min    12486.000000            2.000000                1.000000   \n",
       "25%    18085.750000           12.000000               40.000000   \n",
       "50%    23685.500000           13.000000               40.000000   \n",
       "75%    29285.250000           15.000000               45.000000   \n",
       "max    34885.000000           21.000000               99.000000   \n",
       "\n",
       "       Money Received  Ticket Price        Income  \n",
       "count    22400.000000  22400.000000  22400.000000  \n",
       "mean      1324.915357    109.145313      0.237098  \n",
       "std       9227.771813    500.208904      0.425313  \n",
       "min          0.000000      0.000000      0.000000  \n",
       "25%          0.000000      0.000000      0.000000  \n",
       "50%          0.000000      0.000000      0.000000  \n",
       "75%          0.000000      0.000000      0.000000  \n",
       "max     122999.000000   5358.000000      1.000000  "
      ]
     },
     "execution_count": 7,
     "metadata": {},
     "output_type": "execute_result"
    }
   ],
   "source": [
    "Train.describe()"
   ]
  },
  {
   "cell_type": "markdown",
   "metadata": {},
   "source": [
    "## Missing values analysis"
   ]
  },
  {
   "cell_type": "markdown",
   "metadata": {},
   "source": [
    "Number of missing values by variable"
   ]
  },
  {
   "cell_type": "code",
   "execution_count": 8,
   "metadata": {},
   "outputs": [
    {
     "name": "stdout",
     "output_type": "stream",
     "text": [
      "Null values of Train: CITIZEN_ID                   0\n",
      "Name                         0\n",
      "Birthday                     0\n",
      "Native Continent             0\n",
      "Marital Status               0\n",
      "Lives with                   0\n",
      "Base Area                  395\n",
      "Education Level              0\n",
      "Years of Education           0\n",
      "Employment Sector         1264\n",
      "Role                      1271\n",
      "Working Hours per week       0\n",
      "Money Received               0\n",
      "Ticket Price                 0\n",
      "Income                       0\n",
      "dtype: int64\n",
      "Null values of Test: CITIZEN_ID                  0\n",
      "Name                        0\n",
      "Birthday                    0\n",
      "Native Continent            0\n",
      "Marital Status              0\n",
      "Lives with                  0\n",
      "Base Area                 187\n",
      "Education Level             0\n",
      "Years of Education          0\n",
      "Employment Sector         570\n",
      "Role                      570\n",
      "Working Hours per week      0\n",
      "Money Received              0\n",
      "Ticket Price                0\n",
      "dtype: int64\n"
     ]
    }
   ],
   "source": [
    "Train.replace({'?': None},inplace =True)\n",
    "Train_null = Train.isnull().sum()\n",
    "print('Null values of Train:', Train_null)\n",
    "Test.replace({'?': None},inplace =True)\n",
    "Test_null = Test.isnull().sum()\n",
    "print('Null values of Test:', Test_null)"
   ]
  },
  {
   "cell_type": "code",
   "execution_count": 9,
   "metadata": {},
   "outputs": [],
   "source": [
    "# Save the Citizen ID for furthur use\n",
    "train_citizen_id = Train['CITIZEN_ID']\n",
    "test_citizen_id = Test['CITIZEN_ID']\n",
    "del Train['CITIZEN_ID']\n",
    "del Test['CITIZEN_ID']"
   ]
  },
  {
   "cell_type": "markdown",
   "metadata": {},
   "source": [
    "## Data Normalization"
   ]
  },
  {
   "cell_type": "markdown",
   "metadata": {},
   "source": [
    "The first phase is to find out the gender of citizens"
   ]
  },
  {
   "cell_type": "code",
   "execution_count": 10,
   "metadata": {},
   "outputs": [],
   "source": [
    "## Variable 'Sex'\n",
    "# Train\n",
    "Train['Sex'] = Train['Name'].str.split(' ').str[0].str.replace(' ', '').str.replace('.', '').apply(lambda x: 1 if x == 'Mr' else 0)\n",
    "del Train['Name']\n",
    "# Test\n",
    "Test['Sex'] = Test['Name'].str.split(' ').str[0].str.replace(' ', '').str.replace('.', '').apply(lambda x: 1 if x == 'Mr' else 0)\n",
    "del Test['Name']"
   ]
  },
  {
   "cell_type": "markdown",
   "metadata": {},
   "source": [
    "Next, is to calculate age of citizens by thir birthday"
   ]
  },
  {
   "cell_type": "code",
   "execution_count": 11,
   "metadata": {},
   "outputs": [],
   "source": [
    "# Train\n",
    "Train['Age'] =(Train['Birthday'].astype(str).str[-4:].astype(int).sub(2048) * -1).astype(int)\n",
    "del Train['Birthday']\n",
    "# Test\n",
    "Test['Age'] = (Test['Birthday'].astype(str).str[-4:].astype(int).sub(2048) * -1).astype(int)\n",
    "del Test['Birthday']"
   ]
  },
  {
   "cell_type": "markdown",
   "metadata": {},
   "source": [
    "Next phase is to convert categorical data into seperated boolean columns"
   ]
  },
  {
   "cell_type": "code",
   "execution_count": 12,
   "metadata": {},
   "outputs": [],
   "source": [
    "# Define a function to convert given fields into boolan column based on grouping unique values and drop former column\n",
    "def set_values_as_column(field, df1 = Train, df2=Test):\n",
    "    for item in df1[field].value_counts().index:\n",
    "        df1[item] = df1[field].apply(lambda x: 1 if x == item else 0)\n",
    "    del df1[field]\n",
    "    \n",
    "    for item in df2[field].value_counts().index:\n",
    "        df2[item] = df2[field].apply(lambda x: 1 if x == item else 0)\n",
    "    del df2[field]"
   ]
  },
  {
   "cell_type": "code",
   "execution_count": 13,
   "metadata": {},
   "outputs": [],
   "source": [
    "set_values_as_column('Native Continent')"
   ]
  },
  {
   "cell_type": "code",
   "execution_count": 14,
   "metadata": {},
   "outputs": [],
   "source": [
    "set_values_as_column('Marital Status')"
   ]
  },
  {
   "cell_type": "code",
   "execution_count": 15,
   "metadata": {},
   "outputs": [],
   "source": [
    "set_values_as_column('Lives with')"
   ]
  },
  {
   "cell_type": "code",
   "execution_count": 16,
   "metadata": {},
   "outputs": [],
   "source": [
    "set_values_as_column('Employment Sector')"
   ]
  },
  {
   "cell_type": "code",
   "execution_count": 17,
   "metadata": {},
   "outputs": [],
   "source": [
    "set_values_as_column('Role')"
   ]
  },
  {
   "cell_type": "markdown",
   "metadata": {},
   "source": [
    "To take advantage of education level column, we needed to convert them to numeric values"
   ]
  },
  {
   "cell_type": "code",
   "execution_count": 18,
   "metadata": {},
   "outputs": [
    {
     "name": "stderr",
     "output_type": "stream",
     "text": [
      "/Users/sofia/opt/anaconda3/lib/python3.8/site-packages/pandas/core/indexing.py:670: SettingWithCopyWarning: \n",
      "A value is trying to be set on a copy of a slice from a DataFrame\n",
      "\n",
      "See the caveats in the documentation: https://pandas.pydata.org/pandas-docs/stable/user_guide/indexing.html#returning-a-view-versus-a-copy\n",
      "  iloc._setitem_with_indexer(indexer, value)\n"
     ]
    }
   ],
   "source": [
    "## Dummy variable 'Education Level' \n",
    "# Train\n",
    "Train['Education Level'].loc[Train['Education Level'] == 'Preschool'] = 1\n",
    "Train['Education Level'].loc[Train['Education Level'] == 'Primary School'] = 2\n",
    "Train['Education Level'].loc[Train['Education Level'] == 'Middle School - 1st Cycle'] = 3\n",
    "Train['Education Level'].loc[Train['Education Level'] == 'Middle School Complete'] = 5\n",
    "Train['Education Level'].loc[Train['Education Level'] == 'Middle School - 2nd Cycle'] = 4\n",
    "Train['Education Level'].loc[Train['Education Level'] == 'High School - 2nd Cycle'] = 7\n",
    "Train['Education Level'].loc[Train['Education Level'] == 'High School - 1st Cycle'] = 6\n",
    "Train['Education Level'].loc[Train['Education Level'] == 'High School Complete'] = 8\n",
    "Train['Education Level'].loc[Train['Education Level'] == 'Professional School'] = 9\n",
    "Train['Education Level'].loc[Train['Education Level'] == 'Professional School + PostGraduation'] = 10\n",
    "Train['Education Level'].loc[Train['Education Level'] == 'High School + PostGraduation'] = 11\n",
    "Train['Education Level'].loc[Train['Education Level'] == 'Bachelors' ] = 12\n",
    "Train['Education Level'].loc[Train['Education Level'] == 'Bachelors + PostGraduation' ] = 13\n",
    "Train['Education Level'].loc[Train['Education Level'] ==  'Masters'] = 14\n",
    "Train['Education Level'].loc[Train['Education Level'] ==  'Masters + PostGraduation'] = 15\n",
    "Train['Education Level'].loc[Train['Education Level'] ==  'PhD'] = 16\n",
    "\n",
    "#Test\n",
    "Test['Education Level'].loc[Test['Education Level'] == 'Preschool'] = 1\n",
    "Test['Education Level'].loc[Test['Education Level'] == 'Primary School'] = 2\n",
    "Test['Education Level'].loc[Test['Education Level'] == 'Middle School - 1st Cycle'] = 3\n",
    "Test['Education Level'].loc[Test['Education Level'] == 'Middle School Complete'] = 5\n",
    "Test['Education Level'].loc[Test['Education Level'] == 'Middle School - 2nd Cycle'] = 4\n",
    "Test['Education Level'].loc[Test['Education Level'] == 'High School - 2nd Cycle'] = 7\n",
    "Test['Education Level'].loc[Test['Education Level'] == 'High School - 1st Cycle'] = 6\n",
    "Test['Education Level'].loc[Test['Education Level'] == 'High School Complete'] = 8\n",
    "Test['Education Level'].loc[Test['Education Level'] == 'Professional School'] = 9\n",
    "Test['Education Level'].loc[Test['Education Level'] == 'Professional School + PostGraduation'] = 10\n",
    "Test['Education Level'].loc[Test['Education Level'] == 'High School + PostGraduation'] = 11\n",
    "Test['Education Level'].loc[Test['Education Level'] == 'Bachelors' ] = 12\n",
    "Test['Education Level'].loc[Test['Education Level'] == 'Bachelors + PostGraduation' ] = 13\n",
    "Test['Education Level'].loc[Test['Education Level'] ==  'Masters'] = 14\n",
    "Test['Education Level'].loc[Test['Education Level'] ==  'Masters + PostGraduation'] = 15\n",
    "Test['Education Level'].loc[Test['Education Level'] ==  'PhD'] = 16"
   ]
  },
  {
   "cell_type": "markdown",
   "metadata": {},
   "source": [
    "This phase of this process is to identify the people who belong to each class. To this end, a first income analysis was made to 32500 people older than 17 years old, from which the government intends to create a predictive model to apply to people on their way to Newland."
   ]
  },
  {
   "cell_type": "code",
   "execution_count": 19,
   "metadata": {},
   "outputs": [],
   "source": [
    "Train['Group'] = Train['Money Received'].apply(lambda x: 1 if x == 0 else 2)\n",
    "Train['Group'] = Train['Ticket Price'].apply(lambda x: 1 if x == 0 else 3)\n",
    "\n",
    "Test['Group'] = Test['Money Received'].apply(lambda x: 1 if x == 0 else 2)\n",
    "Test['Group'] = Test['Ticket Price'].apply(lambda x: 1 if x == 0 else 3)"
   ]
  },
  {
   "cell_type": "markdown",
   "metadata": {},
   "source": [
    "## Univariate Analysis"
   ]
  },
  {
   "cell_type": "markdown",
   "metadata": {},
   "source": [
    "### Histograms"
   ]
  },
  {
   "cell_type": "code",
   "execution_count": 20,
   "metadata": {},
   "outputs": [
    {
     "data": {
      "image/png": "[encoded data removed]",
      "text/plain": [
       "<Figure size 432x288 with 4 Axes>"
      ]
     },
     "metadata": {
      "needs_background": "light"
     },
     "output_type": "display_data"
    }
   ],
   "source": [
    "Train[['Ticket Price', 'Years of Education', 'Working Hours per week', 'Money Received']].hist()\n",
    "plt.show()"
   ]
  },
  {
   "cell_type": "code",
   "execution_count": 21,
   "metadata": {},
   "outputs": [
    {
     "data": {
      "text/plain": [
       "array([[<AxesSubplot:title={'center':'Education Level'}>]], dtype=object)"
      ]
     },
     "execution_count": 21,
     "metadata": {},
     "output_type": "execute_result"
    },
    {
     "data": {
      "image/png": "[encoded data removed]",
      "text/plain": [
       "<Figure size 432x288 with 1 Axes>"
      ]
     },
     "metadata": {
      "needs_background": "light"
     },
     "output_type": "display_data"
    }
   ],
   "source": [
    "Train[['Education Level']].astype(int).hist()"
   ]
  },
  {
   "cell_type": "markdown",
   "metadata": {},
   "source": [
    "### Boxplots"
   ]
  },
  {
   "cell_type": "code",
   "execution_count": 22,
   "metadata": {},
   "outputs": [
    {
     "data": {
      "image/png": "[encoded data removed]",
      "text/plain": [
       "<Figure size 432x288 with 5 Axes>"
      ]
     },
     "metadata": {
      "needs_background": "light"
     },
     "output_type": "display_data"
    }
   ],
   "source": [
    "Train[['Education Level', 'Years of Education', 'Working Hours per week', 'Ticket Price', 'Money Received']].plot(kind='box', subplots=True, sharex=False, sharey=False)\n",
    "plt.show()"
   ]
  },
  {
   "cell_type": "markdown",
   "metadata": {},
   "source": [
    "## Multivariate Analysis"
   ]
  },
  {
   "cell_type": "code",
   "execution_count": 23,
   "metadata": {},
   "outputs": [
    {
     "data": {
      "image/png": "[encoded data removed]",
      "text/plain": [
       "<Figure size 432x288 with 16 Axes>"
      ]
     },
     "metadata": {
      "needs_background": "light"
     },
     "output_type": "display_data"
    }
   ],
   "source": [
    "scatter_matrix(Train[['Education Level', 'Years of Education', 'Working Hours per week', 'Ticket Price', 'Money Received']])\n",
    "plt.show()"
   ]
  },
  {
   "cell_type": "markdown",
   "metadata": {},
   "source": [
    "## Outlier analysis"
   ]
  },
  {
   "cell_type": "code",
   "execution_count": 24,
   "metadata": {},
   "outputs": [],
   "source": [
    "# Make boxplot, histogram graph of outliers and calculate number of outliers less/more than min/max limit\n",
    "def show_outlier(fields, df):\n",
    "    for field in fields:\n",
    "        # Cut the window in 2 parts\n",
    "        f, (ax_box, ax_hist) = plt.subplots(2, sharex=True, figsize=(6,4))\n",
    "        # Add a graph in each part\n",
    "        sns.boxplot(x = df[field], ax=ax_box)\n",
    "        sns.histplot(x = df[field], ax=ax_hist)\n",
    "        f.show()"
   ]
  },
  {
   "cell_type": "code",
   "execution_count": 25,
   "metadata": {},
   "outputs": [],
   "source": [
    "# finds outliers of given field based on IQR method\n",
    "def find_outliers(df, limit = 1.5):\n",
    "    fields = []\n",
    "    for field in df:\n",
    "        if df[field].dtypes == 'object':\n",
    "            continue\n",
    "        IQR = df[field].quantile(0.75) - df[field].quantile(0.25)\n",
    "        total = np.float(df.shape[0])\n",
    "        upper_limit = df[field].quantile(0.75) + (int(IQR) * limit)\n",
    "        lower_limit = df[field].quantile(0.25) - (int(IQR) * limit)\n",
    "        uppler_limit_count = (df[field] > upper_limit).sum()\n",
    "        lower_limit_count = (df[field] < lower_limit).sum()\n",
    "        upper_limit_percent = int((uppler_limit_count / total) * 100)\n",
    "        lower_limit_percent = int((lower_limit_count / total) * 100)\n",
    "        if upper_limit_percent > 0 or lower_limit_percent > 0:\n",
    "            fields.append(field)\n",
    "            print(field)\n",
    "            print('Percent of outliers less/more than min/max limit:')\n",
    "            print(str(int((lower_limit_count / total) * 100)) + '%', str(int((uppler_limit_count / total) * 100))+ '%')\n",
    "    return fields"
   ]
  },
  {
   "cell_type": "code",
   "execution_count": 26,
   "metadata": {},
   "outputs": [],
   "source": [
    "non_cat = ['Years of Education', 'Working Hours per week', 'Age']"
   ]
  },
  {
   "cell_type": "code",
   "execution_count": 27,
   "metadata": {},
   "outputs": [
    {
     "name": "stdout",
     "output_type": "stream",
     "text": [
      "Years of Education\n",
      "Percent of outliers less/more than min/max limit:\n",
      "1% 1%\n",
      "Working Hours per week\n",
      "Percent of outliers less/more than min/max limit:\n",
      "16% 10%\n"
     ]
    }
   ],
   "source": [
    "outliers = find_outliers(Train[non_cat])"
   ]
  },
  {
   "cell_type": "code",
   "execution_count": 28,
   "metadata": {},
   "outputs": [
    {
     "name": "stderr",
     "output_type": "stream",
     "text": [
      "<ipython-input-24-fbf5695621b3>:9: UserWarning: Matplotlib is currently using module://ipykernel.pylab.backend_inline, which is a non-GUI backend, so cannot show the figure.\n",
      "  f.show()\n",
      "<ipython-input-24-fbf5695621b3>:9: UserWarning: Matplotlib is currently using module://ipykernel.pylab.backend_inline, which is a non-GUI backend, so cannot show the figure.\n",
      "  f.show()\n"
     ]
    },
    {
     "data": {
      "image/png": "[encoded data removed]",
      "text/plain": [
       "<Figure size 432x288 with 2 Axes>"
      ]
     },
     "metadata": {
      "needs_background": "light"
     },
     "output_type": "display_data"
    },
    {
     "data": {
      "image/png": "[encoded data removed]",
      "text/plain": [
       "<Figure size 432x288 with 2 Axes>"
      ]
     },
     "metadata": {
      "needs_background": "light"
     },
     "output_type": "display_data"
    }
   ],
   "source": [
    "# Draw boxplot and histogram for fields with outliers\n",
    "show_outlier(outliers, Train)"
   ]
  },
  {
   "cell_type": "markdown",
   "metadata": {},
   "source": [
    "## Modify"
   ]
  },
  {
   "cell_type": "markdown",
   "metadata": {},
   "source": [
    "### Transform and create variables"
   ]
  },
  {
   "cell_type": "markdown",
   "metadata": {},
   "source": [
    "In this section a several transformations in the categorical data need to be done. \n",
    "It will be assing a numerical value (int) to each possible category for each variable."
   ]
  },
  {
   "cell_type": "markdown",
   "metadata": {},
   "source": [
    "## Fill Missing data "
   ]
  },
  {
   "cell_type": "code",
   "execution_count": 29,
   "metadata": {},
   "outputs": [
    {
     "data": {
      "text/plain": [
       "Base Area                         395\n",
       "Education Level                     0\n",
       "Years of Education                  0\n",
       "Working Hours per week              0\n",
       "Money Received                      0\n",
       "Ticket Price                        0\n",
       "Income                              0\n",
       "Sex                                 0\n",
       "Age                                 0\n",
       "Europe                              0\n",
       "Africa                              0\n",
       "Asia                                0\n",
       "America                             0\n",
       "Oceania                             0\n",
       "Married                             0\n",
       "Single                              0\n",
       "Divorced                            0\n",
       "Separated                           0\n",
       "Widow                               0\n",
       "Married - Spouse Missing            0\n",
       "Married - Spouse in the Army        0\n",
       "Wife                                0\n",
       "Other Family                        0\n",
       "Children                            0\n",
       "Alone                               0\n",
       "Husband                             0\n",
       "Other relatives                     0\n",
       "Private Sector - Services           0\n",
       "Self-Employed (Individual)          0\n",
       "Public Sector - Others              0\n",
       "Private Sector - Others             0\n",
       "Self-Employed (Company)             0\n",
       "Public Sector - Government          0\n",
       "Unemployed                          0\n",
       "Never Worked                        0\n",
       "Professor                           0\n",
       "Management                          0\n",
       "Repair & constructions              0\n",
       "Administratives                     0\n",
       "Sales                               0\n",
       "Other services                      0\n",
       "Machine Operators & Inspectors      0\n",
       "Transports                          0\n",
       "Cleaners & Handlers                 0\n",
       "Agriculture and Fishing             0\n",
       "IT                                  0\n",
       "Security                            0\n",
       "Household Services                  0\n",
       "Army                                0\n",
       "Group                               0\n",
       "dtype: int64"
      ]
     },
     "execution_count": 29,
     "metadata": {},
     "output_type": "execute_result"
    }
   ],
   "source": [
    "Train.isna().sum()"
   ]
  },
  {
   "cell_type": "markdown",
   "metadata": {},
   "source": [
    "### Correlation Analysis"
   ]
  },
  {
   "cell_type": "code",
   "execution_count": 30,
   "metadata": {},
   "outputs": [
    {
     "data": {
      "image/png": "[encoded data removed]",
      "text/plain": [
       "<Figure size 1800x1800 with 2 Axes>"
      ]
     },
     "metadata": {
      "needs_background": "light"
     },
     "output_type": "display_data"
    }
   ],
   "source": [
    "plt.rcParams['figure.figsize'] = (25,25)\n",
    "\n",
    "corr_matrix=Train.corr(method = 'spearman')\n",
    "mask=np.zeros_like(corr_matrix, dtype=np.bool)\n",
    "\n",
    "mask[np.triu_indices_from(mask)]=True\n",
    "sns.heatmap(data=corr_matrix, mask=mask, center=0, annot=False, linewidths=2, cmap='coolwarm')\n",
    "plt.tight_layout()"
   ]
  },
  {
   "cell_type": "markdown",
   "metadata": {},
   "source": [
    "### Train Validation Partition"
   ]
  },
  {
   "cell_type": "code",
   "execution_count": 28,
   "metadata": {},
   "outputs": [],
   "source": [
    "TrainVP = Train.copy()"
   ]
  },
  {
   "cell_type": "code",
   "execution_count": 29,
   "metadata": {
    "scrolled": false
   },
   "outputs": [
    {
     "data": {
      "text/html": [
       "<div>\n",
       "<style scoped>\n",
       "    .dataframe tbody tr th:only-of-type {\n",
       "        vertical-align: middle;\n",
       "    }\n",
       "\n",
       "    .dataframe tbody tr th {\n",
       "        vertical-align: top;\n",
       "    }\n",
       "\n",
       "    .dataframe thead th {\n",
       "        text-align: right;\n",
       "    }\n",
       "</style>\n",
       "<table border=\"1\" class=\"dataframe\">\n",
       "  <thead>\n",
       "    <tr style=\"text-align: right;\">\n",
       "      <th></th>\n",
       "      <th>Base Area</th>\n",
       "      <th>Education Level</th>\n",
       "      <th>Years of Education</th>\n",
       "      <th>Working Hours per week</th>\n",
       "      <th>Money Received</th>\n",
       "      <th>Ticket Price</th>\n",
       "      <th>Sex</th>\n",
       "      <th>Age</th>\n",
       "      <th>Europe</th>\n",
       "      <th>Africa</th>\n",
       "      <th>...</th>\n",
       "      <th>Other services</th>\n",
       "      <th>Machine Operators &amp; Inspectors</th>\n",
       "      <th>Transports</th>\n",
       "      <th>Cleaners &amp; Handlers</th>\n",
       "      <th>Agriculture and Fishing</th>\n",
       "      <th>IT</th>\n",
       "      <th>Security</th>\n",
       "      <th>Household Services</th>\n",
       "      <th>Army</th>\n",
       "      <th>Group</th>\n",
       "    </tr>\n",
       "  </thead>\n",
       "  <tbody>\n",
       "    <tr>\n",
       "      <th>0</th>\n",
       "      <td>Northbury</td>\n",
       "      <td>11</td>\n",
       "      <td>13</td>\n",
       "      <td>40</td>\n",
       "      <td>0</td>\n",
       "      <td>2273</td>\n",
       "      <td>1</td>\n",
       "      <td>45</td>\n",
       "      <td>1</td>\n",
       "      <td>0</td>\n",
       "      <td>...</td>\n",
       "      <td>0</td>\n",
       "      <td>0</td>\n",
       "      <td>0</td>\n",
       "      <td>0</td>\n",
       "      <td>0</td>\n",
       "      <td>0</td>\n",
       "      <td>0</td>\n",
       "      <td>0</td>\n",
       "      <td>0</td>\n",
       "      <td>3</td>\n",
       "    </tr>\n",
       "    <tr>\n",
       "      <th>1</th>\n",
       "      <td>Northbury</td>\n",
       "      <td>9</td>\n",
       "      <td>12</td>\n",
       "      <td>40</td>\n",
       "      <td>0</td>\n",
       "      <td>0</td>\n",
       "      <td>1</td>\n",
       "      <td>42</td>\n",
       "      <td>1</td>\n",
       "      <td>0</td>\n",
       "      <td>...</td>\n",
       "      <td>0</td>\n",
       "      <td>0</td>\n",
       "      <td>0</td>\n",
       "      <td>0</td>\n",
       "      <td>0</td>\n",
       "      <td>0</td>\n",
       "      <td>0</td>\n",
       "      <td>0</td>\n",
       "      <td>0</td>\n",
       "      <td>1</td>\n",
       "    </tr>\n",
       "    <tr>\n",
       "      <th>2</th>\n",
       "      <td>Northbury</td>\n",
       "      <td>9</td>\n",
       "      <td>12</td>\n",
       "      <td>46</td>\n",
       "      <td>0</td>\n",
       "      <td>2321</td>\n",
       "      <td>1</td>\n",
       "      <td>39</td>\n",
       "      <td>1</td>\n",
       "      <td>0</td>\n",
       "      <td>...</td>\n",
       "      <td>0</td>\n",
       "      <td>0</td>\n",
       "      <td>0</td>\n",
       "      <td>0</td>\n",
       "      <td>0</td>\n",
       "      <td>0</td>\n",
       "      <td>0</td>\n",
       "      <td>0</td>\n",
       "      <td>0</td>\n",
       "      <td>3</td>\n",
       "    </tr>\n",
       "    <tr>\n",
       "      <th>3</th>\n",
       "      <td>Northbury</td>\n",
       "      <td>7</td>\n",
       "      <td>11</td>\n",
       "      <td>37</td>\n",
       "      <td>5395</td>\n",
       "      <td>0</td>\n",
       "      <td>1</td>\n",
       "      <td>63</td>\n",
       "      <td>1</td>\n",
       "      <td>0</td>\n",
       "      <td>...</td>\n",
       "      <td>0</td>\n",
       "      <td>0</td>\n",
       "      <td>0</td>\n",
       "      <td>0</td>\n",
       "      <td>0</td>\n",
       "      <td>0</td>\n",
       "      <td>1</td>\n",
       "      <td>0</td>\n",
       "      <td>0</td>\n",
       "      <td>1</td>\n",
       "    </tr>\n",
       "    <tr>\n",
       "      <th>4</th>\n",
       "      <td>Northbury</td>\n",
       "      <td>16</td>\n",
       "      <td>21</td>\n",
       "      <td>45</td>\n",
       "      <td>0</td>\n",
       "      <td>0</td>\n",
       "      <td>1</td>\n",
       "      <td>33</td>\n",
       "      <td>1</td>\n",
       "      <td>0</td>\n",
       "      <td>...</td>\n",
       "      <td>0</td>\n",
       "      <td>0</td>\n",
       "      <td>0</td>\n",
       "      <td>0</td>\n",
       "      <td>0</td>\n",
       "      <td>0</td>\n",
       "      <td>0</td>\n",
       "      <td>0</td>\n",
       "      <td>0</td>\n",
       "      <td>1</td>\n",
       "    </tr>\n",
       "    <tr>\n",
       "      <th>...</th>\n",
       "      <td>...</td>\n",
       "      <td>...</td>\n",
       "      <td>...</td>\n",
       "      <td>...</td>\n",
       "      <td>...</td>\n",
       "      <td>...</td>\n",
       "      <td>...</td>\n",
       "      <td>...</td>\n",
       "      <td>...</td>\n",
       "      <td>...</td>\n",
       "      <td>...</td>\n",
       "      <td>...</td>\n",
       "      <td>...</td>\n",
       "      <td>...</td>\n",
       "      <td>...</td>\n",
       "      <td>...</td>\n",
       "      <td>...</td>\n",
       "      <td>...</td>\n",
       "      <td>...</td>\n",
       "      <td>...</td>\n",
       "      <td>...</td>\n",
       "    </tr>\n",
       "    <tr>\n",
       "      <th>22395</th>\n",
       "      <td>Northbury</td>\n",
       "      <td>9</td>\n",
       "      <td>12</td>\n",
       "      <td>40</td>\n",
       "      <td>0</td>\n",
       "      <td>0</td>\n",
       "      <td>0</td>\n",
       "      <td>25</td>\n",
       "      <td>1</td>\n",
       "      <td>0</td>\n",
       "      <td>...</td>\n",
       "      <td>0</td>\n",
       "      <td>0</td>\n",
       "      <td>0</td>\n",
       "      <td>1</td>\n",
       "      <td>0</td>\n",
       "      <td>0</td>\n",
       "      <td>0</td>\n",
       "      <td>0</td>\n",
       "      <td>0</td>\n",
       "      <td>1</td>\n",
       "    </tr>\n",
       "    <tr>\n",
       "      <th>22396</th>\n",
       "      <td>Northbury</td>\n",
       "      <td>9</td>\n",
       "      <td>12</td>\n",
       "      <td>35</td>\n",
       "      <td>0</td>\n",
       "      <td>0</td>\n",
       "      <td>1</td>\n",
       "      <td>23</td>\n",
       "      <td>1</td>\n",
       "      <td>0</td>\n",
       "      <td>...</td>\n",
       "      <td>1</td>\n",
       "      <td>0</td>\n",
       "      <td>0</td>\n",
       "      <td>0</td>\n",
       "      <td>0</td>\n",
       "      <td>0</td>\n",
       "      <td>0</td>\n",
       "      <td>0</td>\n",
       "      <td>0</td>\n",
       "      <td>1</td>\n",
       "    </tr>\n",
       "    <tr>\n",
       "      <th>22397</th>\n",
       "      <td>Northbury</td>\n",
       "      <td>14</td>\n",
       "      <td>17</td>\n",
       "      <td>40</td>\n",
       "      <td>2674</td>\n",
       "      <td>0</td>\n",
       "      <td>0</td>\n",
       "      <td>26</td>\n",
       "      <td>1</td>\n",
       "      <td>0</td>\n",
       "      <td>...</td>\n",
       "      <td>0</td>\n",
       "      <td>0</td>\n",
       "      <td>0</td>\n",
       "      <td>0</td>\n",
       "      <td>0</td>\n",
       "      <td>0</td>\n",
       "      <td>0</td>\n",
       "      <td>0</td>\n",
       "      <td>0</td>\n",
       "      <td>1</td>\n",
       "    </tr>\n",
       "    <tr>\n",
       "      <th>22398</th>\n",
       "      <td>Northbury</td>\n",
       "      <td>13</td>\n",
       "      <td>16</td>\n",
       "      <td>90</td>\n",
       "      <td>0</td>\n",
       "      <td>0</td>\n",
       "      <td>1</td>\n",
       "      <td>37</td>\n",
       "      <td>1</td>\n",
       "      <td>0</td>\n",
       "      <td>...</td>\n",
       "      <td>0</td>\n",
       "      <td>0</td>\n",
       "      <td>0</td>\n",
       "      <td>0</td>\n",
       "      <td>0</td>\n",
       "      <td>0</td>\n",
       "      <td>0</td>\n",
       "      <td>0</td>\n",
       "      <td>0</td>\n",
       "      <td>1</td>\n",
       "    </tr>\n",
       "    <tr>\n",
       "      <th>22399</th>\n",
       "      <td>Northbury</td>\n",
       "      <td>11</td>\n",
       "      <td>13</td>\n",
       "      <td>40</td>\n",
       "      <td>0</td>\n",
       "      <td>0</td>\n",
       "      <td>1</td>\n",
       "      <td>22</td>\n",
       "      <td>0</td>\n",
       "      <td>0</td>\n",
       "      <td>...</td>\n",
       "      <td>0</td>\n",
       "      <td>0</td>\n",
       "      <td>1</td>\n",
       "      <td>0</td>\n",
       "      <td>0</td>\n",
       "      <td>0</td>\n",
       "      <td>0</td>\n",
       "      <td>0</td>\n",
       "      <td>0</td>\n",
       "      <td>1</td>\n",
       "    </tr>\n",
       "  </tbody>\n",
       "</table>\n",
       "<p>22400 rows × 49 columns</p>\n",
       "</div>"
      ],
      "text/plain": [
       "       Base Area  Education Level  Years of Education  Working Hours per week  \\\n",
       "0      Northbury               11                  13                      40   \n",
       "1      Northbury                9                  12                      40   \n",
       "2      Northbury                9                  12                      46   \n",
       "3      Northbury                7                  11                      37   \n",
       "4      Northbury               16                  21                      45   \n",
       "...          ...              ...                 ...                     ...   \n",
       "22395  Northbury                9                  12                      40   \n",
       "22396  Northbury                9                  12                      35   \n",
       "22397  Northbury               14                  17                      40   \n",
       "22398  Northbury               13                  16                      90   \n",
       "22399  Northbury               11                  13                      40   \n",
       "\n",
       "       Money Received  Ticket Price  Sex  Age  Europe  Africa  ...  \\\n",
       "0                   0          2273    1   45       1       0  ...   \n",
       "1                   0             0    1   42       1       0  ...   \n",
       "2                   0          2321    1   39       1       0  ...   \n",
       "3                5395             0    1   63       1       0  ...   \n",
       "4                   0             0    1   33       1       0  ...   \n",
       "...               ...           ...  ...  ...     ...     ...  ...   \n",
       "22395               0             0    0   25       1       0  ...   \n",
       "22396               0             0    1   23       1       0  ...   \n",
       "22397            2674             0    0   26       1       0  ...   \n",
       "22398               0             0    1   37       1       0  ...   \n",
       "22399               0             0    1   22       0       0  ...   \n",
       "\n",
       "       Other services  Machine Operators & Inspectors  Transports  \\\n",
       "0                   0                               0           0   \n",
       "1                   0                               0           0   \n",
       "2                   0                               0           0   \n",
       "3                   0                               0           0   \n",
       "4                   0                               0           0   \n",
       "...               ...                             ...         ...   \n",
       "22395               0                               0           0   \n",
       "22396               1                               0           0   \n",
       "22397               0                               0           0   \n",
       "22398               0                               0           0   \n",
       "22399               0                               0           1   \n",
       "\n",
       "       Cleaners & Handlers  Agriculture and Fishing  IT  Security  \\\n",
       "0                        0                        0   0         0   \n",
       "1                        0                        0   0         0   \n",
       "2                        0                        0   0         0   \n",
       "3                        0                        0   0         1   \n",
       "4                        0                        0   0         0   \n",
       "...                    ...                      ...  ..       ...   \n",
       "22395                    1                        0   0         0   \n",
       "22396                    0                        0   0         0   \n",
       "22397                    0                        0   0         0   \n",
       "22398                    0                        0   0         0   \n",
       "22399                    0                        0   0         0   \n",
       "\n",
       "       Household Services  Army  Group  \n",
       "0                       0     0      3  \n",
       "1                       0     0      1  \n",
       "2                       0     0      3  \n",
       "3                       0     0      1  \n",
       "4                       0     0      1  \n",
       "...                   ...   ...    ...  \n",
       "22395                   0     0      1  \n",
       "22396                   0     0      1  \n",
       "22397                   0     0      1  \n",
       "22398                   0     0      1  \n",
       "22399                   0     0      1  \n",
       "\n",
       "[22400 rows x 49 columns]"
      ]
     },
     "execution_count": 29,
     "metadata": {},
     "output_type": "execute_result"
    }
   ],
   "source": [
    "TrainVP = TrainVP.drop(columns=['Income'])\n",
    "TrainVP"
   ]
  },
  {
   "cell_type": "code",
   "execution_count": 30,
   "metadata": {},
   "outputs": [
    {
     "data": {
      "text/plain": [
       "Index(['Base Area', 'Education Level', 'Years of Education',\n",
       "       'Working Hours per week', 'Money Received', 'Ticket Price', 'Sex',\n",
       "       'Age', 'Europe', 'Africa', 'Asia', 'America', 'Oceania', 'Married',\n",
       "       'Single', 'Divorced', 'Separated', 'Widow', 'Married - Spouse Missing',\n",
       "       'Married - Spouse in the Army', 'Wife', 'Other Family', 'Children',\n",
       "       'Alone', 'Husband', 'Other relatives', 'Private Sector - Services ',\n",
       "       'Self-Employed (Individual)', 'Public Sector - Others',\n",
       "       'Private Sector - Others', 'Self-Employed (Company)',\n",
       "       'Public Sector - Government', 'Unemployed', 'Repair & constructions',\n",
       "       'Professor', 'Management', 'Administratives', 'Sales', 'Other services',\n",
       "       'Machine Operators & Inspectors', 'Transports', 'Cleaners & Handlers',\n",
       "       'IT', 'Agriculture and Fishing', 'Security', 'Household Services',\n",
       "       'Army', 'Group'],\n",
       "      dtype='object')"
      ]
     },
     "execution_count": 30,
     "metadata": {},
     "output_type": "execute_result"
    }
   ],
   "source": [
    "Test.columns"
   ]
  },
  {
   "cell_type": "code",
   "execution_count": 31,
   "metadata": {},
   "outputs": [],
   "source": [
    "variables= ['Sex','Married','Single', 'Divorced', 'Separated', 'Widow',\n",
    "            'Married - Spouse Missing', 'Married - Spouse in the Army', 'Wife',\n",
    "            'Other Family', 'Children', 'Alone', 'Husband', 'Other relatives',\n",
    "            'Private Sector - Services ', 'Self-Employed (Individual)',\n",
    "            'Public Sector - Others', 'Private Sector - Others',\n",
    "            'Self-Employed (Company)', 'Public Sector - Government', 'Unemployed',\n",
    "            'Professor', 'Management', 'Repair & constructions',\n",
    "            'Administratives', 'Sales', 'Other services',\n",
    "            'Machine Operators & Inspectors', 'Transports', 'Cleaners & Handlers',\n",
    "            'Agriculture and Fishing', 'IT', 'Security', 'Household Services',\n",
    "            'Army', 'Europe', 'Africa', 'Asia', 'America', 'Oceania','Money Received', \n",
    "            'Years of Education', 'Ticket Price', 'Age', 'Working Hours per week', 'Group']\n",
    "\n",
    "X = Train[variables]\n",
    "\n",
    "y = Train['Income']"
   ]
  },
  {
   "cell_type": "code",
   "execution_count": 32,
   "metadata": {},
   "outputs": [],
   "source": [
    "X_train, X_val, y_train, y_val = train_test_split(X, y, test_size=0.25, random_state=15, shuffle=True, stratify=y)"
   ]
  },
  {
   "cell_type": "code",
   "execution_count": 33,
   "metadata": {},
   "outputs": [
    {
     "data": {
      "text/html": [
       "<div>\n",
       "<style scoped>\n",
       "    .dataframe tbody tr th:only-of-type {\n",
       "        vertical-align: middle;\n",
       "    }\n",
       "\n",
       "    .dataframe tbody tr th {\n",
       "        vertical-align: top;\n",
       "    }\n",
       "\n",
       "    .dataframe thead th {\n",
       "        text-align: right;\n",
       "    }\n",
       "</style>\n",
       "<table border=\"1\" class=\"dataframe\">\n",
       "  <thead>\n",
       "    <tr style=\"text-align: right;\">\n",
       "      <th></th>\n",
       "      <th>Sex</th>\n",
       "      <th>Married</th>\n",
       "      <th>Single</th>\n",
       "      <th>Divorced</th>\n",
       "      <th>Separated</th>\n",
       "      <th>Widow</th>\n",
       "      <th>Married - Spouse Missing</th>\n",
       "      <th>Married - Spouse in the Army</th>\n",
       "      <th>Wife</th>\n",
       "      <th>Other Family</th>\n",
       "      <th>...</th>\n",
       "      <th>Africa</th>\n",
       "      <th>Asia</th>\n",
       "      <th>America</th>\n",
       "      <th>Oceania</th>\n",
       "      <th>Money Received</th>\n",
       "      <th>Years of Education</th>\n",
       "      <th>Ticket Price</th>\n",
       "      <th>Age</th>\n",
       "      <th>Working Hours per week</th>\n",
       "      <th>Group</th>\n",
       "    </tr>\n",
       "  </thead>\n",
       "  <tbody>\n",
       "    <tr>\n",
       "      <th>5875</th>\n",
       "      <td>1</td>\n",
       "      <td>0</td>\n",
       "      <td>1</td>\n",
       "      <td>0</td>\n",
       "      <td>0</td>\n",
       "      <td>0</td>\n",
       "      <td>0</td>\n",
       "      <td>0</td>\n",
       "      <td>0</td>\n",
       "      <td>0</td>\n",
       "      <td>...</td>\n",
       "      <td>0</td>\n",
       "      <td>0</td>\n",
       "      <td>0</td>\n",
       "      <td>0</td>\n",
       "      <td>0</td>\n",
       "      <td>12</td>\n",
       "      <td>0</td>\n",
       "      <td>21</td>\n",
       "      <td>45</td>\n",
       "      <td>1</td>\n",
       "    </tr>\n",
       "    <tr>\n",
       "      <th>2413</th>\n",
       "      <td>1</td>\n",
       "      <td>1</td>\n",
       "      <td>0</td>\n",
       "      <td>0</td>\n",
       "      <td>0</td>\n",
       "      <td>0</td>\n",
       "      <td>0</td>\n",
       "      <td>0</td>\n",
       "      <td>1</td>\n",
       "      <td>0</td>\n",
       "      <td>...</td>\n",
       "      <td>0</td>\n",
       "      <td>0</td>\n",
       "      <td>0</td>\n",
       "      <td>0</td>\n",
       "      <td>9456</td>\n",
       "      <td>16</td>\n",
       "      <td>0</td>\n",
       "      <td>31</td>\n",
       "      <td>40</td>\n",
       "      <td>1</td>\n",
       "    </tr>\n",
       "    <tr>\n",
       "      <th>21423</th>\n",
       "      <td>0</td>\n",
       "      <td>0</td>\n",
       "      <td>0</td>\n",
       "      <td>0</td>\n",
       "      <td>1</td>\n",
       "      <td>0</td>\n",
       "      <td>0</td>\n",
       "      <td>0</td>\n",
       "      <td>0</td>\n",
       "      <td>0</td>\n",
       "      <td>...</td>\n",
       "      <td>0</td>\n",
       "      <td>0</td>\n",
       "      <td>0</td>\n",
       "      <td>0</td>\n",
       "      <td>0</td>\n",
       "      <td>12</td>\n",
       "      <td>0</td>\n",
       "      <td>33</td>\n",
       "      <td>40</td>\n",
       "      <td>1</td>\n",
       "    </tr>\n",
       "    <tr>\n",
       "      <th>9352</th>\n",
       "      <td>1</td>\n",
       "      <td>1</td>\n",
       "      <td>0</td>\n",
       "      <td>0</td>\n",
       "      <td>0</td>\n",
       "      <td>0</td>\n",
       "      <td>0</td>\n",
       "      <td>0</td>\n",
       "      <td>1</td>\n",
       "      <td>0</td>\n",
       "      <td>...</td>\n",
       "      <td>0</td>\n",
       "      <td>0</td>\n",
       "      <td>0</td>\n",
       "      <td>0</td>\n",
       "      <td>0</td>\n",
       "      <td>13</td>\n",
       "      <td>0</td>\n",
       "      <td>61</td>\n",
       "      <td>40</td>\n",
       "      <td>1</td>\n",
       "    </tr>\n",
       "    <tr>\n",
       "      <th>3613</th>\n",
       "      <td>1</td>\n",
       "      <td>1</td>\n",
       "      <td>0</td>\n",
       "      <td>0</td>\n",
       "      <td>0</td>\n",
       "      <td>0</td>\n",
       "      <td>0</td>\n",
       "      <td>0</td>\n",
       "      <td>1</td>\n",
       "      <td>0</td>\n",
       "      <td>...</td>\n",
       "      <td>0</td>\n",
       "      <td>0</td>\n",
       "      <td>0</td>\n",
       "      <td>0</td>\n",
       "      <td>0</td>\n",
       "      <td>16</td>\n",
       "      <td>0</td>\n",
       "      <td>57</td>\n",
       "      <td>50</td>\n",
       "      <td>1</td>\n",
       "    </tr>\n",
       "    <tr>\n",
       "      <th>...</th>\n",
       "      <td>...</td>\n",
       "      <td>...</td>\n",
       "      <td>...</td>\n",
       "      <td>...</td>\n",
       "      <td>...</td>\n",
       "      <td>...</td>\n",
       "      <td>...</td>\n",
       "      <td>...</td>\n",
       "      <td>...</td>\n",
       "      <td>...</td>\n",
       "      <td>...</td>\n",
       "      <td>...</td>\n",
       "      <td>...</td>\n",
       "      <td>...</td>\n",
       "      <td>...</td>\n",
       "      <td>...</td>\n",
       "      <td>...</td>\n",
       "      <td>...</td>\n",
       "      <td>...</td>\n",
       "      <td>...</td>\n",
       "      <td>...</td>\n",
       "    </tr>\n",
       "    <tr>\n",
       "      <th>21839</th>\n",
       "      <td>0</td>\n",
       "      <td>0</td>\n",
       "      <td>1</td>\n",
       "      <td>0</td>\n",
       "      <td>0</td>\n",
       "      <td>0</td>\n",
       "      <td>0</td>\n",
       "      <td>0</td>\n",
       "      <td>0</td>\n",
       "      <td>1</td>\n",
       "      <td>...</td>\n",
       "      <td>0</td>\n",
       "      <td>0</td>\n",
       "      <td>0</td>\n",
       "      <td>0</td>\n",
       "      <td>0</td>\n",
       "      <td>13</td>\n",
       "      <td>0</td>\n",
       "      <td>23</td>\n",
       "      <td>28</td>\n",
       "      <td>1</td>\n",
       "    </tr>\n",
       "    <tr>\n",
       "      <th>18990</th>\n",
       "      <td>0</td>\n",
       "      <td>0</td>\n",
       "      <td>1</td>\n",
       "      <td>0</td>\n",
       "      <td>0</td>\n",
       "      <td>0</td>\n",
       "      <td>0</td>\n",
       "      <td>0</td>\n",
       "      <td>0</td>\n",
       "      <td>1</td>\n",
       "      <td>...</td>\n",
       "      <td>0</td>\n",
       "      <td>0</td>\n",
       "      <td>0</td>\n",
       "      <td>0</td>\n",
       "      <td>0</td>\n",
       "      <td>12</td>\n",
       "      <td>0</td>\n",
       "      <td>28</td>\n",
       "      <td>40</td>\n",
       "      <td>1</td>\n",
       "    </tr>\n",
       "    <tr>\n",
       "      <th>4547</th>\n",
       "      <td>1</td>\n",
       "      <td>0</td>\n",
       "      <td>1</td>\n",
       "      <td>0</td>\n",
       "      <td>0</td>\n",
       "      <td>0</td>\n",
       "      <td>0</td>\n",
       "      <td>0</td>\n",
       "      <td>0</td>\n",
       "      <td>0</td>\n",
       "      <td>...</td>\n",
       "      <td>0</td>\n",
       "      <td>0</td>\n",
       "      <td>0</td>\n",
       "      <td>0</td>\n",
       "      <td>0</td>\n",
       "      <td>12</td>\n",
       "      <td>0</td>\n",
       "      <td>21</td>\n",
       "      <td>36</td>\n",
       "      <td>1</td>\n",
       "    </tr>\n",
       "    <tr>\n",
       "      <th>14753</th>\n",
       "      <td>1</td>\n",
       "      <td>0</td>\n",
       "      <td>1</td>\n",
       "      <td>0</td>\n",
       "      <td>0</td>\n",
       "      <td>0</td>\n",
       "      <td>0</td>\n",
       "      <td>0</td>\n",
       "      <td>0</td>\n",
       "      <td>0</td>\n",
       "      <td>...</td>\n",
       "      <td>0</td>\n",
       "      <td>0</td>\n",
       "      <td>0</td>\n",
       "      <td>0</td>\n",
       "      <td>0</td>\n",
       "      <td>12</td>\n",
       "      <td>0</td>\n",
       "      <td>20</td>\n",
       "      <td>30</td>\n",
       "      <td>1</td>\n",
       "    </tr>\n",
       "    <tr>\n",
       "      <th>20272</th>\n",
       "      <td>1</td>\n",
       "      <td>1</td>\n",
       "      <td>0</td>\n",
       "      <td>0</td>\n",
       "      <td>0</td>\n",
       "      <td>0</td>\n",
       "      <td>0</td>\n",
       "      <td>0</td>\n",
       "      <td>1</td>\n",
       "      <td>0</td>\n",
       "      <td>...</td>\n",
       "      <td>0</td>\n",
       "      <td>0</td>\n",
       "      <td>0</td>\n",
       "      <td>0</td>\n",
       "      <td>122999</td>\n",
       "      <td>12</td>\n",
       "      <td>0</td>\n",
       "      <td>33</td>\n",
       "      <td>56</td>\n",
       "      <td>1</td>\n",
       "    </tr>\n",
       "  </tbody>\n",
       "</table>\n",
       "<p>16800 rows × 46 columns</p>\n",
       "</div>"
      ],
      "text/plain": [
       "       Sex  Married  Single  Divorced  Separated  Widow  \\\n",
       "5875     1        0       1         0          0      0   \n",
       "2413     1        1       0         0          0      0   \n",
       "21423    0        0       0         0          1      0   \n",
       "9352     1        1       0         0          0      0   \n",
       "3613     1        1       0         0          0      0   \n",
       "...    ...      ...     ...       ...        ...    ...   \n",
       "21839    0        0       1         0          0      0   \n",
       "18990    0        0       1         0          0      0   \n",
       "4547     1        0       1         0          0      0   \n",
       "14753    1        0       1         0          0      0   \n",
       "20272    1        1       0         0          0      0   \n",
       "\n",
       "       Married - Spouse Missing  Married - Spouse in the Army  Wife  \\\n",
       "5875                          0                             0     0   \n",
       "2413                          0                             0     1   \n",
       "21423                         0                             0     0   \n",
       "9352                          0                             0     1   \n",
       "3613                          0                             0     1   \n",
       "...                         ...                           ...   ...   \n",
       "21839                         0                             0     0   \n",
       "18990                         0                             0     0   \n",
       "4547                          0                             0     0   \n",
       "14753                         0                             0     0   \n",
       "20272                         0                             0     1   \n",
       "\n",
       "       Other Family  ...  Africa  Asia  America  Oceania  Money Received  \\\n",
       "5875              0  ...       0     0        0        0               0   \n",
       "2413              0  ...       0     0        0        0            9456   \n",
       "21423             0  ...       0     0        0        0               0   \n",
       "9352              0  ...       0     0        0        0               0   \n",
       "3613              0  ...       0     0        0        0               0   \n",
       "...             ...  ...     ...   ...      ...      ...             ...   \n",
       "21839             1  ...       0     0        0        0               0   \n",
       "18990             1  ...       0     0        0        0               0   \n",
       "4547              0  ...       0     0        0        0               0   \n",
       "14753             0  ...       0     0        0        0               0   \n",
       "20272             0  ...       0     0        0        0          122999   \n",
       "\n",
       "       Years of Education  Ticket Price  Age  Working Hours per week  Group  \n",
       "5875                   12             0   21                      45      1  \n",
       "2413                   16             0   31                      40      1  \n",
       "21423                  12             0   33                      40      1  \n",
       "9352                   13             0   61                      40      1  \n",
       "3613                   16             0   57                      50      1  \n",
       "...                   ...           ...  ...                     ...    ...  \n",
       "21839                  13             0   23                      28      1  \n",
       "18990                  12             0   28                      40      1  \n",
       "4547                   12             0   21                      36      1  \n",
       "14753                  12             0   20                      30      1  \n",
       "20272                  12             0   33                      56      1  \n",
       "\n",
       "[16800 rows x 46 columns]"
      ]
     },
     "execution_count": 33,
     "metadata": {},
     "output_type": "execute_result"
    }
   ],
   "source": [
    "X_train"
   ]
  },
  {
   "cell_type": "markdown",
   "metadata": {},
   "source": [
    "### Data Standardization"
   ]
  },
  {
   "cell_type": "code",
   "execution_count": 34,
   "metadata": {},
   "outputs": [],
   "source": [
    "scaler = StandardScaler().fit(X_train)  # z-score\n",
    "#scaler = RobustScaler().fit(X_train) # robust standardization\n",
    "\n",
    "scaler_X_train = scaler.transform(X_train)\n",
    "scaler_X_train = pd.DataFrame(scaler_X_train, columns=variables)\n",
    "\n",
    "scaler_X_val = scaler.transform(X_val)\n",
    "scaler_X_val = pd.DataFrame(scaler_X_val, columns=variables)\n",
    "\n",
    "Test = Test[variables]\n",
    "scaler_X_test = scaler.transform(Test)\n",
    "scaler_X_test = pd.DataFrame(scaler_X_test, columns=variables)"
   ]
  },
  {
   "cell_type": "markdown",
   "metadata": {},
   "source": [
    "### Feature Selection"
   ]
  },
  {
   "cell_type": "markdown",
   "metadata": {},
   "source": [
    "#### Lasso Regression"
   ]
  },
  {
   "cell_type": "code",
   "execution_count": 35,
   "metadata": {},
   "outputs": [],
   "source": [
    "def plot_importance(coef,name):\n",
    "    imp_coef = coef.sort_values()\n",
    "    plt.figure(figsize=(8,10))\n",
    "    imp_coef.plot(kind = \"barh\")\n",
    "    plt.title(\"Feature importance using \" + name + \" Model\")\n",
    "    plt.show()"
   ]
  },
  {
   "cell_type": "code",
   "execution_count": 36,
   "metadata": {},
   "outputs": [
    {
     "data": {
      "text/plain": [
       "Group                            -0.070512\n",
       "Agriculture and Fishing          -0.017815\n",
       "Machine Operators & Inspectors   -0.008751\n",
       "Cleaners & Handlers              -0.008591\n",
       "Other Family                     -0.008339\n",
       "Transports                       -0.006353\n",
       "Single                           -0.005323\n",
       "Asia                             -0.005218\n",
       "Self-Employed (Individual)       -0.005050\n",
       "Divorced                         -0.003559\n",
       "Alone                            -0.003348\n",
       "Private Sector - Others          -0.003054\n",
       "Oceania                          -0.002432\n",
       "Unemployed                       -0.002337\n",
       "Other services                   -0.002211\n",
       "Army                             -0.002065\n",
       "Repair & constructions           -0.001708\n",
       "America                          -0.001470\n",
       "Separated                         0.000000\n",
       "Public Sector - Others           -0.000000\n",
       "Africa                            0.000000\n",
       "Children                         -0.000000\n",
       "Other relatives                   0.001717\n",
       "Household Services                0.002223\n",
       "Widow                             0.002943\n",
       "Married - Spouse in the Army      0.004329\n",
       "Married - Spouse Missing          0.004368\n",
       "Europe                            0.004764\n",
       "Administratives                   0.005700\n",
       "Self-Employed (Company)           0.011833\n",
       "Security                          0.013063\n",
       "Private Sector - Services         0.014728\n",
       "IT                                0.016598\n",
       "Public Sector - Government        0.016676\n",
       "Sales                             0.017060\n",
       "Sex                               0.029582\n",
       "Working Hours per week            0.033713\n",
       "Age                               0.037371\n",
       "Married                           0.039202\n",
       "Professor                         0.039496\n",
       "Management                        0.051831\n",
       "Husband                           0.060306\n",
       "Money Received                    0.060436\n",
       "Wife                              0.078538\n",
       "Years of Education                0.080257\n",
       "Ticket Price                      0.109147\n",
       "dtype: float64"
      ]
     },
     "execution_count": 36,
     "metadata": {},
     "output_type": "execute_result"
    }
   ],
   "source": [
    "reg = LassoCV()\n",
    "reg.fit(scaler_X_train, y_train)\n",
    "coef = pd.Series(reg.coef_, index=scaler_X_train.columns)\n",
    "coef.sort_values()"
   ]
  },
  {
   "cell_type": "code",
   "execution_count": 37,
   "metadata": {},
   "outputs": [
    {
     "data": {
      "image/png": "[encoded data removed]",
      "text/plain": [
       "<Figure size 576x720 with 1 Axes>"
      ]
     },
     "metadata": {
      "needs_background": "light"
     },
     "output_type": "display_data"
    }
   ],
   "source": [
    "plot_importance(coef, 'Lasso')"
   ]
  },
  {
   "cell_type": "markdown",
   "metadata": {},
   "source": [
    "#### Ridge Regression"
   ]
  },
  {
   "cell_type": "code",
   "execution_count": 38,
   "metadata": {},
   "outputs": [
    {
     "name": "stdout",
     "output_type": "stream",
     "text": [
      "Group                            -0.076804\n",
      "Other Family                     -0.037465\n",
      "Children                         -0.023661\n",
      "Alone                            -0.023655\n",
      "Agriculture and Fishing          -0.021079\n",
      "Single                           -0.016681\n",
      "Machine Operators & Inspectors   -0.013175\n",
      "Cleaners & Handlers              -0.012283\n",
      "Divorced                         -0.011860\n",
      "Transports                       -0.010278\n",
      "Other relatives                  -0.009270\n",
      "Repair & constructions           -0.007762\n",
      "Other services                   -0.007579\n",
      "Asia                             -0.005675\n",
      "Separated                        -0.004143\n",
      "Oceania                          -0.002733\n",
      "Army                             -0.002482\n",
      "Unemployed                       -0.002123\n",
      "America                          -0.001758\n",
      "Widow                            -0.000972\n",
      "Africa                           -0.000356\n",
      "Self-Employed (Individual)       -0.000347\n",
      "Private Sector - Others           0.000186\n",
      "Administratives                   0.000302\n",
      "Household Services                0.001258\n",
      "Married - Spouse Missing          0.001849\n",
      "Married - Spouse in the Army      0.003868\n",
      "Public Sector - Others            0.004223\n",
      "Europe                            0.004302\n",
      "Security                          0.010808\n",
      "Sales                             0.011673\n",
      "IT                                0.013888\n",
      "Self-Employed (Company)           0.015163\n",
      "Public Sector - Government        0.019951\n",
      "Private Sector - Services         0.023109\n",
      "Married                           0.025097\n",
      "Sex                               0.029971\n",
      "Working Hours per week            0.033858\n",
      "Professor                         0.033940\n",
      "Age                               0.037408\n",
      "Management                        0.046221\n",
      "Husband                           0.047291\n",
      "Wife                              0.048253\n",
      "Money Received                    0.060512\n",
      "Years of Education                0.080132\n",
      "Ticket Price                      0.115380\n",
      "dtype: float64\n"
     ]
    }
   ],
   "source": [
    "ridge = RidgeCV()\n",
    "ridge.fit(X=scaler_X_train, y=y_train)\n",
    "coef_ridge = pd.Series(ridge.coef_, index=scaler_X_train.columns)\n",
    "print(coef_ridge.sort_values())"
   ]
  },
  {
   "cell_type": "code",
   "execution_count": 39,
   "metadata": {},
   "outputs": [
    {
     "data": {
      "image/png": "[encoded data removed]",
      "text/plain": [
       "<Figure size 576x720 with 1 Axes>"
      ]
     },
     "metadata": {
      "needs_background": "light"
     },
     "output_type": "display_data"
    }
   ],
   "source": [
    "plot_importance(coef_ridge,'Ridge')"
   ]
  },
  {
   "cell_type": "markdown",
   "metadata": {},
   "source": [
    "#### Recursive Feature Elimination"
   ]
  },
  {
   "cell_type": "code",
   "execution_count": 40,
   "metadata": {},
   "outputs": [
    {
     "name": "stderr",
     "output_type": "stream",
     "text": [
      "C:\\Users\\HP\\anaconda3\\lib\\site-packages\\sklearn\\utils\\validation.py:68: FutureWarning: Pass n_features_to_select=1 as keyword args. From version 0.25 passing these as positional arguments will result in an error\n",
      "  warnings.warn(\"Pass {} as keyword args. From version 0.25 \"\n",
      "C:\\Users\\HP\\anaconda3\\lib\\site-packages\\sklearn\\utils\\validation.py:68: FutureWarning: Pass n_features_to_select=2 as keyword args. From version 0.25 passing these as positional arguments will result in an error\n",
      "  warnings.warn(\"Pass {} as keyword args. From version 0.25 \"\n",
      "C:\\Users\\HP\\anaconda3\\lib\\site-packages\\sklearn\\utils\\validation.py:68: FutureWarning: Pass n_features_to_select=3 as keyword args. From version 0.25 passing these as positional arguments will result in an error\n",
      "  warnings.warn(\"Pass {} as keyword args. From version 0.25 \"\n",
      "C:\\Users\\HP\\anaconda3\\lib\\site-packages\\sklearn\\utils\\validation.py:68: FutureWarning: Pass n_features_to_select=4 as keyword args. From version 0.25 passing these as positional arguments will result in an error\n",
      "  warnings.warn(\"Pass {} as keyword args. From version 0.25 \"\n",
      "C:\\Users\\HP\\anaconda3\\lib\\site-packages\\sklearn\\utils\\validation.py:68: FutureWarning: Pass n_features_to_select=5 as keyword args. From version 0.25 passing these as positional arguments will result in an error\n",
      "  warnings.warn(\"Pass {} as keyword args. From version 0.25 \"\n",
      "C:\\Users\\HP\\anaconda3\\lib\\site-packages\\sklearn\\utils\\validation.py:68: FutureWarning: Pass n_features_to_select=6 as keyword args. From version 0.25 passing these as positional arguments will result in an error\n",
      "  warnings.warn(\"Pass {} as keyword args. From version 0.25 \"\n",
      "C:\\Users\\HP\\anaconda3\\lib\\site-packages\\sklearn\\utils\\validation.py:68: FutureWarning: Pass n_features_to_select=7 as keyword args. From version 0.25 passing these as positional arguments will result in an error\n",
      "  warnings.warn(\"Pass {} as keyword args. From version 0.25 \"\n",
      "C:\\Users\\HP\\anaconda3\\lib\\site-packages\\sklearn\\utils\\validation.py:68: FutureWarning: Pass n_features_to_select=8 as keyword args. From version 0.25 passing these as positional arguments will result in an error\n",
      "  warnings.warn(\"Pass {} as keyword args. From version 0.25 \"\n",
      "C:\\Users\\HP\\anaconda3\\lib\\site-packages\\sklearn\\utils\\validation.py:68: FutureWarning: Pass n_features_to_select=9 as keyword args. From version 0.25 passing these as positional arguments will result in an error\n",
      "  warnings.warn(\"Pass {} as keyword args. From version 0.25 \"\n"
     ]
    },
    {
     "name": "stdout",
     "output_type": "stream",
     "text": [
      "Optimum number of features: 8\n",
      "Score with 8 features: 0.836190\n"
     ]
    }
   ],
   "source": [
    "# nro of features\n",
    "nof_list=np.arange(1,10)            \n",
    "high_score=0\n",
    "# Variable to store the optimum features\n",
    "nof=0           \n",
    "score_list =[]\n",
    "for n in range(len(nof_list)):\n",
    "\n",
    "    X_train_rfe, X_rfe_val, y_train_rfe, y_rfe_val = train_test_split(scaler_X_train, y_train, test_size = 0.25, \n",
    "                                                                      random_state = 15)\n",
    "    \n",
    "    model_rfe = LogisticRegression()\n",
    "    rfe = RFE(model_rfe,nof_list[n])\n",
    "    X_train_rfe = rfe.fit_transform(X_train_rfe,y_train_rfe)\n",
    "    X_rfe_val = rfe.transform(X_rfe_val)\n",
    "    \n",
    "    model_rfe.fit(X_train_rfe,y_train_rfe)\n",
    "    \n",
    "    score = model_rfe.score(X_rfe_val,y_rfe_val)\n",
    "    score_list.append(score)\n",
    "    \n",
    "    if(score>high_score):\n",
    "        high_score = score\n",
    "        nof = nof_list[n]\n",
    "\n",
    "print(\"Optimum number of features: %d\" %nof)\n",
    "print(\"Score with %d features: %f\" % (nof, high_score))"
   ]
  },
  {
   "cell_type": "markdown",
   "metadata": {},
   "source": [
    "#### Visualize the weight of the dependent variable in categorical data"
   ]
  },
  {
   "cell_type": "code",
   "execution_count": 41,
   "metadata": {},
   "outputs": [
    {
     "name": "stdout",
     "output_type": "stream",
     "text": [
      "Income       0     1    All\n",
      "Married                    \n",
      "0        11358   823  12181\n",
      "1         5731  4488  10219\n",
      "All      17089  5311  22400\n"
     ]
    },
    {
     "data": {
      "image/png": "[encoded data removed]",
      "text/plain": [
       "<Figure size 1080x360 with 2 Axes>"
      ]
     },
     "metadata": {
      "needs_background": "light"
     },
     "output_type": "display_data"
    }
   ],
   "source": [
    "def bar_charts_categorical(df, feature, target):\n",
    "    cont_tab = pd.crosstab(df[feature], df[target], margins = True)\n",
    "    print(cont_tab)\n",
    "    categories = cont_tab.index[:-1]\n",
    "        \n",
    "    fig = plt.figure(figsize=(15, 5))\n",
    "    \n",
    "    plt.subplot(121)\n",
    "    p1 = plt.bar(categories, cont_tab.iloc[:-1, 0].values, 0.55, color=\"gray\")\n",
    "    p2 = plt.bar(categories, cont_tab.iloc[:-1, 1].values, 0.55, bottom=cont_tab.iloc[:-1, 0], color=\"yellowgreen\")\n",
    "    plt.legend((p2[0], p1[0]), ('$y_i=1$', '$y_i=0$'))\n",
    "    plt.title(\"Frequency bar chart\")\n",
    "    plt.xlabel(feature)\n",
    "    plt.ylabel(\"$Frequency$\")\n",
    "\n",
    "    # auxiliary data for 122\n",
    "    obs_pct = np.array([np.divide(cont_tab.iloc[:-1, 0].values, cont_tab.iloc[:-1, 2].values), \n",
    "                        np.divide(cont_tab.iloc[:-1, 1].values, cont_tab.iloc[:-1, 2].values)])\n",
    "      \n",
    "    plt.subplot(122)\n",
    "    p1 = plt.bar(categories, obs_pct[0], 0.55, color=\"gray\")\n",
    "    p2 = plt.bar(categories, obs_pct[1], 0.55, bottom=obs_pct[0], color=\"yellowgreen\")\n",
    "    plt.legend((p2[0], p1[0]), ('$y_i=1$', '$y_i=0$'))\n",
    "    plt.title(\"Proportion bar chart\")\n",
    "    plt.xlabel(feature)\n",
    "    plt.ylabel(\"$p$\")\n",
    "\n",
    "    plt.show()\n",
    "    \n",
    "bar_charts_categorical(Train, 'Married', 'Income')"
   ]
  },
  {
   "cell_type": "code",
   "execution_count": 42,
   "metadata": {},
   "outputs": [
    {
     "name": "stdout",
     "output_type": "stream",
     "text": [
      "Income      0     1    All\n",
      "Group                     \n",
      "1       16572  4771  21343\n",
      "3         517   540   1057\n",
      "All     17089  5311  22400\n"
     ]
    },
    {
     "data": {
      "image/png": "[encoded data removed]",
      "text/plain": [
       "<Figure size 1080x360 with 2 Axes>"
      ]
     },
     "metadata": {
      "needs_background": "light"
     },
     "output_type": "display_data"
    }
   ],
   "source": [
    "def bar_charts_categorical(df, feature, target):\n",
    "    cont_tab = pd.crosstab(df[feature], df[target], margins = True)\n",
    "    print(cont_tab)\n",
    "    categories = cont_tab.index[:-1]\n",
    "        \n",
    "    fig = plt.figure(figsize=(15, 5))\n",
    "    \n",
    "    plt.subplot(121)\n",
    "    p1 = plt.bar(categories, cont_tab.iloc[:-1, 0].values, 0.55, color=\"gray\")\n",
    "    p2 = plt.bar(categories, cont_tab.iloc[:-1, 1].values, 0.55, bottom=cont_tab.iloc[:-1, 0], color=\"yellowgreen\")\n",
    "    plt.legend((p2[0], p1[0]), ('$y_i=1$', '$y_i=0$'))\n",
    "    plt.title(\"Frequency bar chart\")\n",
    "    plt.xlabel(feature)\n",
    "    plt.ylabel(\"$Frequency$\")\n",
    "\n",
    "    # auxiliary data for 122\n",
    "    obs_pct = np.array([np.divide(cont_tab.iloc[:-1, 0].values, cont_tab.iloc[:-1, 2].values), \n",
    "                        np.divide(cont_tab.iloc[:-1, 1].values, cont_tab.iloc[:-1, 2].values)])\n",
    "      \n",
    "    plt.subplot(122)\n",
    "    p1 = plt.bar(categories, obs_pct[0], 0.55, color=\"gray\")\n",
    "    p2 = plt.bar(categories, obs_pct[1], 0.55, bottom=obs_pct[0], color=\"yellowgreen\")\n",
    "    plt.legend((p2[0], p1[0]), ('$y_i=1$', '$y_i=0$'))\n",
    "    plt.title(\"Proportion bar chart\")\n",
    "    plt.xlabel(feature)\n",
    "    plt.ylabel(\"$p$\")\n",
    "\n",
    "    plt.show()\n",
    "    \n",
    "bar_charts_categorical(Train, 'Group', 'Income')"
   ]
  },
  {
   "cell_type": "markdown",
   "metadata": {},
   "source": [
    "#### Dimensionality Reduction"
   ]
  },
  {
   "cell_type": "code",
   "execution_count": 43,
   "metadata": {},
   "outputs": [],
   "source": [
    "from sklearn.decomposition import PCA\n",
    "pca = PCA(n_components=4, svd_solver='arpack')\n",
    "pca.fit(scaler_X_train, y_train)\n",
    "# Obtain X embedded\n",
    "X_embedded_train = pd.DataFrame(pca.transform(scaler_X_train))\n",
    "X_embedded_val = pd.DataFrame(pca.transform(scaler_X_val))\n",
    "test_embedded = pd.DataFrame(pca.transform(scaler_X_test))"
   ]
  },
  {
   "cell_type": "code",
   "execution_count": 44,
   "metadata": {
    "scrolled": true
   },
   "outputs": [
    {
     "data": {
      "image/png": "[encoded data removed]",
      "text/plain": [
       "<Figure size 1080x360 with 2 Axes>"
      ]
     },
     "metadata": {
      "needs_background": "light"
     },
     "output_type": "display_data"
    }
   ],
   "source": [
    "# figure and axes\n",
    "fig, (ax1, ax2) = plt.subplots(1, 2, figsize=(15, 5))\n",
    " \n",
    "# draw plots\n",
    "ax1.plot(pca.explained_variance_, marker=\".\", markersize=12)\n",
    "ax2.plot(pca.explained_variance_ratio_, marker=\".\", markersize=12, label=\"Proportion\")\n",
    "ax2.plot(np.cumsum(pca.explained_variance_ratio_), marker=\".\", markersize=12, linestyle=\"--\", label=\"Cumulative\")\n",
    " \n",
    "# customizations\n",
    "ax2.legend()\n",
    "ax1.set_title(\"Scree Plot\", fontsize=14)\n",
    "ax2.set_title(\"Variance Explained\", fontsize=14)\n",
    "ax1.set_ylabel(\"Eigenvalue\")\n",
    "ax2.set_ylabel(\"Proportion\")\n",
    "ax1.set_xlabel(\"Components\")\n",
    "ax2.set_xlabel(\"Components\")\n",
    "ax1.set_xticks(range(0, pca.n_components_, 2))\n",
    "ax1.set_xticklabels(range(1, pca.n_components_ + 1, 2))\n",
    "ax2.set_xticks(range(0, pca.n_components_, 2))\n",
    "ax2.set_xticklabels(range(1, pca.n_components_ + 1, 2))\n",
    " \n",
    "plt.show()"
   ]
  },
  {
   "cell_type": "markdown",
   "metadata": {},
   "source": [
    "## Model"
   ]
  },
  {
   "cell_type": "markdown",
   "metadata": {},
   "source": [
    "### Model Exploration"
   ]
  },
  {
   "cell_type": "markdown",
   "metadata": {},
   "source": [
    "#### K Nearest Neighbors"
   ]
  },
  {
   "cell_type": "code",
   "execution_count": 45,
   "metadata": {},
   "outputs": [],
   "source": [
    "k = 10\n",
    "cv = StratifiedKFold(n_splits=k, shuffle=True, random_state=15)"
   ]
  },
  {
   "cell_type": "code",
   "execution_count": 64,
   "metadata": {},
   "outputs": [],
   "source": [
    "#{'algorithm': 'auto',\n",
    "# 'metric': 'cosine',\n",
    "# 'n_neighbors': 28,\n",
    "# 'weights': 'uniform'}"
   ]
  },
  {
   "cell_type": "code",
   "execution_count": 65,
   "metadata": {},
   "outputs": [],
   "source": [
    "#knn_clf = KNeighborsClassifier()\n",
    "\n",
    "#knn_parameters = {'n_neighbors' : np.arange(1,31,1),\n",
    "#                  'metric' : ['euclidean', 'cosine', 'manhattan', 'minkowski'],\n",
    "#                  'weights' : ['uniform', 'distance'],\n",
    "#                  'algorithm': ['auto', 'ball_tree', 'kd_tree', 'brute']}\n",
    "\n",
    "#knn_grid = GridSearchCV(estimator=knn_clf, param_grid=knn_parameters, cv=cv, scoring='accuracy', verbose=1, n_jobs=-1)\n",
    "\n",
    "#knn_grid.fit(scaler_X_train, y_train)\n",
    "\n",
    "#knn_grid.best_params_"
   ]
  },
  {
   "cell_type": "code",
   "execution_count": 66,
   "metadata": {},
   "outputs": [
    {
     "name": "stdout",
     "output_type": "stream",
     "text": [
      "0.8445833333333334\n",
      "0.8407142857142857\n"
     ]
    }
   ],
   "source": [
    "KNN = KNeighborsClassifier(n_neighbors=28, algorithm='auto', metric='cosine', weights='uniform').fit(X = scaler_X_train, y = y_train)\n",
    "print(KNN.score(scaler_X_train, y_train))\n",
    "print(KNN.score(scaler_X_val, y_val))"
   ]
  },
  {
   "cell_type": "markdown",
   "metadata": {},
   "source": [
    "#### K Nearest Centroid"
   ]
  },
  {
   "cell_type": "code",
   "execution_count": 67,
   "metadata": {},
   "outputs": [],
   "source": [
    "#{'metric': 'euclidean'}"
   ]
  },
  {
   "cell_type": "code",
   "execution_count": 68,
   "metadata": {},
   "outputs": [],
   "source": [
    "#knc_clf = NearestCentroid()\n",
    "\n",
    "#knc_parameters = {'metric' : ['euclidean', 'cosine', 'manhattan']}\n",
    "\n",
    "#knc_grid = GridSearchCV(estimator=knc_clf, param_grid=knc_parameters, cv=cv, scoring='accuracy', verbose=1, n_jobs=-1)\n",
    "\n",
    "#knc_grid.fit(scaler_X_train, y_train)\n",
    "\n",
    "#knc_grid.best_params_"
   ]
  },
  {
   "cell_type": "code",
   "execution_count": 69,
   "metadata": {},
   "outputs": [
    {
     "name": "stdout",
     "output_type": "stream",
     "text": [
      "0.7382738095238095\n",
      "0.7530357142857143\n"
     ]
    }
   ],
   "source": [
    "KNC = NearestCentroid(metric='euclidean').fit(X = scaler_X_train, y = y_train)\n",
    "print(KNC.score(scaler_X_train, y_train))\n",
    "print(KNC.score(scaler_X_val, y_val))"
   ]
  },
  {
   "cell_type": "markdown",
   "metadata": {},
   "source": [
    "#### Random Forest"
   ]
  },
  {
   "cell_type": "code",
   "execution_count": 70,
   "metadata": {},
   "outputs": [],
   "source": [
    "#{'criterion': 'gini',\n",
    "# 'max_features': 'sqrt',\n",
    "# 'n_estimators': 100,\n",
    "# 'warm_start': True}"
   ]
  },
  {
   "cell_type": "code",
   "execution_count": 71,
   "metadata": {},
   "outputs": [],
   "source": [
    "#rf_clf = RandomForestClassifier(class_weight='balanced', random_state=15)\n",
    "\n",
    "#rf_parameters = {\"n_estimators\": np.arange(100, 400, 100),\n",
    "#                  \"max_features\": ['sqrt', 'log2', 'auto', None],\n",
    "#                  \"criterion\": ['gini', 'entropy'],\n",
    "#                  \"warm_start\" : [True, False]}\n",
    "\n",
    "#rf_grid = GridSearchCV(estimator=rf_clf, param_grid=rf_parameters, cv=cv, scoring='accuracy', verbose=1, n_jobs=-1)\n",
    "\n",
    "#rf_grid.fit(scaler_X_train, y_train)\n",
    "#rf_grid.best_params_"
   ]
  },
  {
   "cell_type": "code",
   "execution_count": 72,
   "metadata": {},
   "outputs": [
    {
     "name": "stdout",
     "output_type": "stream",
     "text": [
      "0.9800595238095238\n",
      "0.8489285714285715\n"
     ]
    }
   ],
   "source": [
    "from sklearn.ensemble import RandomForestClassifier\n",
    "RF=RandomForestClassifier(criterion='gini',max_features='sqrt',n_estimators=100,warm_start=True).fit(X=scaler_X_train, y=y_train)\n",
    "print(RF.score(scaler_X_train,y_train))\n",
    "print(RF.score(scaler_X_val, y_val))"
   ]
  },
  {
   "cell_type": "code",
   "execution_count": 73,
   "metadata": {},
   "outputs": [
    {
     "name": "stderr",
     "output_type": "stream",
     "text": [
      "[Parallel(n_jobs=1)]: Using backend SequentialBackend with 1 concurrent workers.\n",
      "[Parallel(n_jobs=1)]: Done   1 out of   1 | elapsed:    0.0s remaining:    0.0s\n",
      "[Parallel(n_jobs=1)]: Done   2 out of   2 | elapsed:    0.0s remaining:    0.0s\n"
     ]
    },
    {
     "name": "stdout",
     "output_type": "stream",
     "text": [
      "building tree 1 of 100\n",
      "building tree 2 of 100\n",
      "building tree 3 of 100\n",
      "building tree 4 of 100\n",
      "building tree 5 of 100\n",
      "building tree 6 of 100\n",
      "building tree 7 of 100\n",
      "building tree 8 of 100\n",
      "building tree 9 of 100\n",
      "building tree 10 of 100\n",
      "building tree 11 of 100\n",
      "building tree 12 of 100\n",
      "building tree 13 of 100\n",
      "building tree 14 of 100\n",
      "building tree 15 of 100\n",
      "building tree 16 of 100\n",
      "building tree 17 of 100\n",
      "building tree 18 of 100\n",
      "building tree 19 of 100\n",
      "building tree 20 of 100\n",
      "building tree 21 of 100\n",
      "building tree 22 of 100\n",
      "building tree 23 of 100\n",
      "building tree 24 of 100\n",
      "building tree 25 of 100\n",
      "building tree 26 of 100\n",
      "building tree 27 of 100\n",
      "building tree 28 of 100\n",
      "building tree 29 of 100\n",
      "building tree 30 of 100\n",
      "building tree 31 of 100\n",
      "building tree 32 of 100\n",
      "building tree 33 of 100\n",
      "building tree 34 of 100\n",
      "building tree 35 of 100\n",
      "building tree 36 of 100\n",
      "building tree 37 of 100\n",
      "building tree 38 of 100\n",
      "building tree 39 of 100\n",
      "building tree 40 of 100\n",
      "building tree 41 of 100\n",
      "building tree 42 of 100\n",
      "building tree 43 of 100\n",
      "building tree 44 of 100\n",
      "building tree 45 of 100\n",
      "building tree 46 of 100\n",
      "building tree 47 of 100\n",
      "building tree 48 of 100\n",
      "building tree 49 of 100\n",
      "building tree 50 of 100\n",
      "building tree 51 of 100\n",
      "building tree 52 of 100\n",
      "building tree 53 of 100\n",
      "building tree 54 of 100\n",
      "building tree 55 of 100\n",
      "building tree 56 of 100\n",
      "building tree 57 of 100\n",
      "building tree 58 of 100\n",
      "building tree 59 of 100\n",
      "building tree 60 of 100\n",
      "building tree 61 of 100\n",
      "building tree 62 of 100\n",
      "building tree 63 of 100\n",
      "building tree 64 of 100\n",
      "building tree 65 of 100\n",
      "building tree 66 of 100\n",
      "building tree 67 of 100\n",
      "building tree 68 of 100\n",
      "building tree 69 of 100\n",
      "building tree 70 of 100\n",
      "building tree 71 of 100\n",
      "building tree 72 of 100\n",
      "building tree 73 of 100\n",
      "building tree 74 of 100\n",
      "building tree 75 of 100\n",
      "building tree 76 of 100\n",
      "building tree 77 of 100\n",
      "building tree 78 of 100\n",
      "building tree 79 of 100\n",
      "building tree 80 of 100\n",
      "building tree 81 of 100\n",
      "building tree 82 of 100\n",
      "building tree 83 of 100\n",
      "building tree 84 of 100\n",
      "building tree 85 of 100\n",
      "building tree 86 of 100\n",
      "building tree 87 of 100\n",
      "building tree 88 of 100\n",
      "building tree 89 of 100\n",
      "building tree 90 of 100\n",
      "building tree 91 of 100\n",
      "building tree 92 of 100\n",
      "building tree 93 of 100\n",
      "building tree 94 of 100\n",
      "building tree 95 of 100\n",
      "building tree 96 of 100\n",
      "building tree 97 of 100\n",
      "building tree 98 of 100\n",
      "building tree 99 of 100\n",
      "building tree 100 of 100\n"
     ]
    },
    {
     "name": "stderr",
     "output_type": "stream",
     "text": [
      "[Parallel(n_jobs=1)]: Done 100 out of 100 | elapsed:    2.1s finished\n",
      "[Parallel(n_jobs=1)]: Using backend SequentialBackend with 1 concurrent workers.\n",
      "[Parallel(n_jobs=1)]: Done   1 out of   1 | elapsed:    0.0s remaining:    0.0s\n",
      "[Parallel(n_jobs=1)]: Done   2 out of   2 | elapsed:    0.0s remaining:    0.0s\n"
     ]
    },
    {
     "name": "stdout",
     "output_type": "stream",
     "text": [
      "0.9800595238095238\n",
      "0.8489285714285715\n"
     ]
    },
    {
     "name": "stderr",
     "output_type": "stream",
     "text": [
      "[Parallel(n_jobs=1)]: Done 100 out of 100 | elapsed:    0.4s finished\n",
      "[Parallel(n_jobs=1)]: Using backend SequentialBackend with 1 concurrent workers.\n",
      "[Parallel(n_jobs=1)]: Done   1 out of   1 | elapsed:    0.0s remaining:    0.0s\n",
      "[Parallel(n_jobs=1)]: Done   2 out of   2 | elapsed:    0.0s remaining:    0.0s\n",
      "[Parallel(n_jobs=1)]: Done 100 out of 100 | elapsed:    0.2s finished\n"
     ]
    }
   ],
   "source": [
    "from sklearn.ensemble import RandomForestClassifier\n",
    "RF=RandomForestClassifier(criterion='gini',max_features='sqrt',n_estimators=100,warm_start=False,verbose=3).fit(X=scaler_X_train, y=y_train)\n",
    "print(RF.score(scaler_X_train,y_train))\n",
    "print(RF.score(scaler_X_val, y_val))"
   ]
  },
  {
   "cell_type": "markdown",
   "metadata": {},
   "source": [
    "#### Decision Tree"
   ]
  },
  {
   "cell_type": "code",
   "execution_count": 74,
   "metadata": {},
   "outputs": [],
   "source": [
    "#max_leaf_nodes=23\n",
    "#min_samples_split=2"
   ]
  },
  {
   "cell_type": "code",
   "execution_count": 75,
   "metadata": {},
   "outputs": [],
   "source": [
    "#from sklearn.tree import DecisionTreeClassifier\n",
    "#from sklearn.model_selection import GridSearchCV\n",
    "#params = {'max_leaf_nodes': list(range(2, 100)), 'min_samples_split': [2, 3, 4]}\n",
    "#grid_search_cv = GridSearchCV(DecisionTreeClassifier(random_state=42), params, verbose=1, cv=3)\n",
    "#grid_search_cv.fit(scaler_X_train, y_train)\n",
    "#grid_search_cv.best_params_"
   ]
  },
  {
   "cell_type": "code",
   "execution_count": 76,
   "metadata": {},
   "outputs": [
    {
     "name": "stdout",
     "output_type": "stream",
     "text": [
      "0.8545833333333334\n",
      "0.8544642857142857\n"
     ]
    }
   ],
   "source": [
    "from sklearn.tree import DecisionTreeClassifier\n",
    "DT= DecisionTreeClassifier(max_leaf_nodes=23, min_samples_split=2).fit(scaler_X_train,y_train)\n",
    "print(DT.score(scaler_X_train,y_train))\n",
    "print(DT.score(scaler_X_val, y_val))"
   ]
  },
  {
   "cell_type": "code",
   "execution_count": 77,
   "metadata": {},
   "outputs": [
    {
     "name": "stdout",
     "output_type": "stream",
     "text": [
      "0.8644642857142857\n",
      "0.8607142857142858\n"
     ]
    }
   ],
   "source": [
    "DT= DecisionTreeClassifier(min_samples_split=2, max_leaf_nodes=50\n",
    "                           ).fit(scaler_X_train,y_train)\n",
    "print(DT.score(scaler_X_train,y_train))\n",
    "print(DT.score(scaler_X_val, y_val))"
   ]
  },
  {
   "cell_type": "markdown",
   "metadata": {},
   "source": [
    "#### Passive Agressive"
   ]
  },
  {
   "cell_type": "code",
   "execution_count": 78,
   "metadata": {},
   "outputs": [],
   "source": [
    "#{'class_weight': None,\n",
    "# 'early_stopping': True,\n",
    "# 'max_iter': 100,\n",
    "# 'warm_start': True}"
   ]
  },
  {
   "cell_type": "code",
   "execution_count": 79,
   "metadata": {},
   "outputs": [],
   "source": [
    "#pa_clf = PassiveAggressiveClassifier(random_state=15)\n",
    "\n",
    "#pa_parameters = {\"warm_start\" : [True, False],\n",
    "#                  \"early_stopping\" : [True, False],\n",
    "#                  \"max_iter\" : (100, 500, 1000),\n",
    "#                  \"class_weight\" : ['balanced', None]}\n",
    "\n",
    "#pa_grid = GridSearchCV(estimator=pa_clf, param_grid=pa_parameters, cv=cv, scoring='accuracy', verbose=1, n_jobs=-1)\n",
    "\n",
    "#pa_grid.fit(scaler_X_train, y_train)\n",
    "#pa_grid.best_params_"
   ]
  },
  {
   "cell_type": "code",
   "execution_count": 80,
   "metadata": {},
   "outputs": [
    {
     "name": "stdout",
     "output_type": "stream",
     "text": [
      "0.7832142857142858\n",
      "0.7825\n"
     ]
    }
   ],
   "source": [
    "PA = PassiveAggressiveClassifier(class_weight=None, early_stopping=True, max_iter=100, warm_start=True\n",
    "                                      ).fit(scaler_X_train, y_train)\n",
    "print(PA.score(scaler_X_train, y_train))\n",
    "print(PA.score(scaler_X_val, y_val))"
   ]
  },
  {
   "cell_type": "markdown",
   "metadata": {},
   "source": [
    "#### Logistic Regression"
   ]
  },
  {
   "cell_type": "code",
   "execution_count": 81,
   "metadata": {},
   "outputs": [],
   "source": [
    "#{'max_iter': 100, 'solver': 'newton-cg', 'warm_start': True}"
   ]
  },
  {
   "cell_type": "code",
   "execution_count": 82,
   "metadata": {},
   "outputs": [],
   "source": [
    "#log_clf = LogisticRegression()\n",
    "\n",
    "#log_parameters = {'solver': ['newton-cg', 'sag', 'saga', 'lbfgs'],\n",
    "#                   'warm_start' : [True, False],\n",
    "#                   'max_iter' : (100, 200, 300)}\n",
    "\n",
    "#log_grid = GridSearchCV(estimator=log_clf, param_grid=log_parameters, cv=cv, scoring='accuracy', verbose=1, n_jobs=-1)\n",
    "#log_grid.fit(scaler_X_train, y_train)\n",
    "#log_grid.best_params_"
   ]
  },
  {
   "cell_type": "code",
   "execution_count": 83,
   "metadata": {},
   "outputs": [
    {
     "name": "stdout",
     "output_type": "stream",
     "text": [
      "0.8514880952380952\n",
      "0.8516071428571429\n"
     ]
    }
   ],
   "source": [
    "LOG = LogisticRegression(max_iter=100, solver='newton-cg', warm_start=True).fit(scaler_X_train, y_train) \n",
    "print(LOG.score(scaler_X_train, y_train))\n",
    "print(LOG.score(scaler_X_val, y_val))"
   ]
  },
  {
   "cell_type": "markdown",
   "metadata": {},
   "source": [
    "#### Multi-Layer Perceptron"
   ]
  },
  {
   "cell_type": "code",
   "execution_count": 84,
   "metadata": {},
   "outputs": [],
   "source": [
    "#{'activation': 'relu',\n",
    "# 'alpha': 0.05,\n",
    "# 'hidden_layer_sizes': (50, 100, 50),\n",
    "# 'learning_rate': 'constant',\n",
    "# 'solver': 'adam'}"
   ]
  },
  {
   "cell_type": "code",
   "execution_count": 85,
   "metadata": {},
   "outputs": [],
   "source": [
    "#mlp = MLPClassifier(random_state=15)\n",
    "\n",
    "#mlp_parameters = {\n",
    "#    'hidden_layer_sizes': [(50,50,50), (50,100,50), (100,)],\n",
    "#    'activation': ['tanh', 'relu'],\n",
    "#    'solver': ['sgd', 'adam'],\n",
    "#    'alpha': [0.0001, 0.05],\n",
    "#    'learning_rate': ['constant','adaptive'],\n",
    "#}\n",
    "#mlp_grid = GridSearchCV(estimator=mlp, param_grid=mlp_parameters, cv=cv, scoring='accuracy', verbose=1, n_jobs=-1)\n",
    "#mlp_grid.fit(scaler_X_train, y_train)\n",
    "#mlp_grid.best_params_"
   ]
  },
  {
   "cell_type": "code",
   "execution_count": 86,
   "metadata": {
    "scrolled": false
   },
   "outputs": [
    {
     "name": "stdout",
     "output_type": "stream",
     "text": [
      "0.9222023809523809\n",
      "0.8339285714285715\n"
     ]
    }
   ],
   "source": [
    "MLP = MLPClassifier(activation= 'relu',alpha= 0.05, hidden_layer_sizes= (50, 100, 50), learning_rate= 'constant',solver='adam').fit(scaler_X_train,y_train)\n",
    "print(MLP.score(scaler_X_train, y_train))\n",
    "print(MLP.score(scaler_X_val, y_val))"
   ]
  },
  {
   "cell_type": "markdown",
   "metadata": {},
   "source": [
    "#### Naive Bayes"
   ]
  },
  {
   "cell_type": "code",
   "execution_count": 87,
   "metadata": {},
   "outputs": [],
   "source": [
    "#{'var_smoothing': 1.0}"
   ]
  },
  {
   "cell_type": "code",
   "execution_count": 88,
   "metadata": {},
   "outputs": [],
   "source": [
    "#nb_classifier = GaussianNB()\n",
    "#params_NB = {'var_smoothing': np.logspace(0,-9, num=100)}\n",
    "#gs_NB = GridSearchCV(estimator=nb_classifier, \n",
    "#                 param_grid=params_NB, \n",
    "#                 cv=cv,   # use any cross validation technique \n",
    "#                 verbose=1, \n",
    "#                 scoring='accuracy') \n",
    "#gs_NB.fit(scaler_X_train, y_train)\n",
    "#gs_NB.best_params_"
   ]
  },
  {
   "cell_type": "code",
   "execution_count": 89,
   "metadata": {},
   "outputs": [
    {
     "name": "stdout",
     "output_type": "stream",
     "text": [
      "0.7308333333333333\n",
      "0.7501785714285715\n"
     ]
    }
   ],
   "source": [
    "NB = GaussianNB(var_smoothing= 1.0).fit(scaler_X_train, y_train)\n",
    "print(NB.score(scaler_X_train, y_train))\n",
    "print(NB.score(scaler_X_val, y_val))"
   ]
  },
  {
   "cell_type": "markdown",
   "metadata": {},
   "source": [
    "#### Support Vector Machine (SVM)"
   ]
  },
  {
   "cell_type": "code",
   "execution_count": 90,
   "metadata": {},
   "outputs": [],
   "source": [
    "#{'C': 10, 'gamma': 'auto', 'kernel': 'rbf'}"
   ]
  },
  {
   "cell_type": "code",
   "execution_count": 91,
   "metadata": {},
   "outputs": [],
   "source": [
    "#svm_clf = SVC()\n",
    "\n",
    "#svm_parameters = {\n",
    "#     'kernel' : ['poly', 'rbf', 'sigmoid'],\n",
    "#     'gamma' : ['scale', 'auto'],\n",
    "#     'C' : [50, 10, 1.0, 0.1, 0.01]\n",
    "# }\n",
    "\n",
    "\n",
    "#svm_grid = GridSearchCV(estimator= svm_clf, param_grid=svm_parameters, cv = cv, scoring='accuracy', verbose=1, n_jobs=-1)\n",
    "#svm_grid.fit(scaler_X_train, y_train)\n",
    "#print(\"Best Score: \", svm_grid.best_score_)\n",
    "#print(\"Best MLP: \", svm_grid.best_estimator_)\n",
    "#svm_grid.best_params_"
   ]
  },
  {
   "cell_type": "code",
   "execution_count": 92,
   "metadata": {},
   "outputs": [
    {
     "name": "stdout",
     "output_type": "stream",
     "text": [
      "0.8772619047619048\n",
      "0.8482142857142857\n"
     ]
    }
   ],
   "source": [
    "SVM = SVC(C= 10, gamma='auto',kernel='rbf').fit(scaler_X_train, y_train)\n",
    "print(SVM.score(scaler_X_train, y_train))\n",
    "print(SVM.score(scaler_X_val, y_val))"
   ]
  },
  {
   "cell_type": "markdown",
   "metadata": {},
   "source": [
    "## Ensemble"
   ]
  },
  {
   "cell_type": "markdown",
   "metadata": {},
   "source": [
    "#### Bagging Classifier"
   ]
  },
  {
   "cell_type": "code",
   "execution_count": 93,
   "metadata": {},
   "outputs": [],
   "source": [
    "#{'base_estimator': None,\n",
    "# 'bootstrap': False,\n",
    "# 'bootstrap_features': True,\n",
    "# 'n_estimators': 1000}"
   ]
  },
  {
   "cell_type": "code",
   "execution_count": 94,
   "metadata": {},
   "outputs": [],
   "source": [
    "#bbc_clf = BaggingClassifier()\n",
    "\n",
    "#bbc_parameters = {'base_estimator' : [None, KNN, KNC ,DT, RF, PA, LOG, MLP, NB, SVM],\n",
    "#                   'n_estimators' : [10, 100, 1000],\n",
    "#                   'bootstrap' : [True, False],\n",
    "#                   'bootstrap_features' : [True, False]\n",
    "#}\n",
    "\n",
    "\n",
    "\n",
    "#bbc_grid = GridSearchCV(estimator=bbc_clf, param_grid=bbc_parameters, cv=cv, scoring='accuracy', verbose=1, n_jobs=-1)\n",
    "#bbc_grid.fit(scaler_X_train, y_train)\n",
    "#bbc_grid.best_params_"
   ]
  },
  {
   "cell_type": "code",
   "execution_count": 95,
   "metadata": {},
   "outputs": [
    {
     "name": "stdout",
     "output_type": "stream",
     "text": [
      "0.8700595238095238\n",
      "0.86375\n"
     ]
    }
   ],
   "source": [
    "bagging = BaggingClassifier(base_estimator=DT, n_estimators=10, bootstrap=True, bootstrap_features=True, \n",
    "                               warm_start=True, random_state=15).fit(scaler_X_train, y_train)\n",
    "print(bagging.score(scaler_X_train, y_train))\n",
    "print(bagging.score(scaler_X_val, y_val))"
   ]
  },
  {
   "cell_type": "code",
   "execution_count": 96,
   "metadata": {},
   "outputs": [
    {
     "name": "stdout",
     "output_type": "stream",
     "text": [
      "0.8805952380952381\n",
      "0.8733928571428572\n"
     ]
    }
   ],
   "source": [
    "GB = GradientBoostingClassifier(learning_rate=0.25, loss='deviance', n_estimators=100, criterion='friedman_mse', \n",
    "                           ).fit(scaler_X_train,y_train)\n",
    "print(GB.score(scaler_X_train, y_train))\n",
    "print(GB.score(scaler_X_val, y_val))"
   ]
  },
  {
   "cell_type": "code",
   "execution_count": 97,
   "metadata": {},
   "outputs": [
    {
     "name": "stdout",
     "output_type": "stream",
     "text": [
      "0.8700595238095238\n",
      "0.86375\n"
     ]
    }
   ],
   "source": [
    "bagging_gb = BaggingClassifier(base_estimator=GB, n_estimators=10, bootstrap=True, bootstrap_features=True, \n",
    "                               warm_start=True, random_state=15).fit(scaler_X_train, y_train)\n",
    "print(bagging.score(scaler_X_train, y_train))\n",
    "print(bagging.score(scaler_X_val, y_val))"
   ]
  },
  {
   "cell_type": "markdown",
   "metadata": {},
   "source": [
    "#### AdaBoost Classifier"
   ]
  },
  {
   "cell_type": "code",
   "execution_count": 98,
   "metadata": {},
   "outputs": [],
   "source": [
    "#AdaBoost = AdaBoostClassifier()\n",
    "\n",
    "#AdaBoost_parameters = {'base_estimator' : [None, KNN, KNC , RF, DT, PA, LOG, MLP, NB, SVM],\n",
    "#                        'n_estimators' : np.arange(40, 105, 5),\n",
    "#                        'learning_rate' : (0.01, 0.1, 1, 10),\n",
    "#                        'algorithm' : ['SAMME', 'SAMME.R']}\n",
    "\n",
    "#AdaBoost_grid = GridSearchCV(estimator=AdaBoost, param_grid=AdaBoost_parameters, cv=cv, \n",
    "#                              scoring='accuracy', verbose=1, n_jobs=-1)\n",
    "\n",
    "#AdaBoost_grid.fit(scaler_X_train , y_train)\n",
    "#AdaBoost_grid.best_params_"
   ]
  },
  {
   "cell_type": "code",
   "execution_count": 102,
   "metadata": {},
   "outputs": [
    {
     "name": "stdout",
     "output_type": "stream",
     "text": [
      "0.8832142857142857\n",
      "0.8746428571428572\n"
     ]
    }
   ],
   "source": [
    "from sklearn.ensemble import AdaBoostClassifier\n",
    "adaboost_gb = AdaBoostClassifier(base_estimator=GB, n_estimators=50, learning_rate=0.01, \n",
    "                              algorithm='SAMME', random_state=15).fit(scaler_X_train, y_train)\n",
    "print(adaboost_gb.score(scaler_X_train, y_train))\n",
    "print(adaboost_gb.score(scaler_X_val, y_val))"
   ]
  },
  {
   "cell_type": "code",
   "execution_count": 103,
   "metadata": {},
   "outputs": [
    {
     "name": "stdout",
     "output_type": "stream",
     "text": [
      "0.8904166666666666\n",
      "0.8676785714285714\n"
     ]
    }
   ],
   "source": [
    "adaboost = AdaBoostClassifier(base_estimator=DT, algorithm='SAMME').fit(scaler_X_train, y_train)\n",
    "print(adaboost.score(scaler_X_train, y_train))\n",
    "print(adaboost.score(scaler_X_val, y_val))"
   ]
  },
  {
   "cell_type": "code",
   "execution_count": 104,
   "metadata": {},
   "outputs": [
    {
     "name": "stdout",
     "output_type": "stream",
     "text": [
      "0.9436309523809524\n",
      "0.8491071428571428\n"
     ]
    }
   ],
   "source": [
    "adaboost = AdaBoostClassifier(base_estimator=bagging, algorithm='SAMME').fit(scaler_X_train, y_train)\n",
    "print(adaboost.score(scaler_X_train, y_train))\n",
    "print(adaboost.score(scaler_X_val, y_val))"
   ]
  },
  {
   "cell_type": "markdown",
   "metadata": {},
   "source": [
    "#### Voting Classifier"
   ]
  },
  {
   "cell_type": "code",
   "execution_count": 105,
   "metadata": {},
   "outputs": [
    {
     "name": "stderr",
     "output_type": "stream",
     "text": [
      "[Parallel(n_jobs=1)]: Using backend SequentialBackend with 1 concurrent workers.\n",
      "[Parallel(n_jobs=1)]: Done   1 out of   1 | elapsed:    0.0s remaining:    0.0s\n",
      "[Parallel(n_jobs=1)]: Done   2 out of   2 | elapsed:    0.0s remaining:    0.0s\n"
     ]
    },
    {
     "name": "stdout",
     "output_type": "stream",
     "text": [
      "building tree 1 of 100\n",
      "building tree 2 of 100\n",
      "building tree 3 of 100\n",
      "building tree 4 of 100\n",
      "building tree 5 of 100\n",
      "building tree 6 of 100\n",
      "building tree 7 of 100\n",
      "building tree 8 of 100\n",
      "building tree 9 of 100\n",
      "building tree 10 of 100\n",
      "building tree 11 of 100\n",
      "building tree 12 of 100\n",
      "building tree 13 of 100\n",
      "building tree 14 of 100\n",
      "building tree 15 of 100\n",
      "building tree 16 of 100\n",
      "building tree 17 of 100\n",
      "building tree 18 of 100\n",
      "building tree 19 of 100\n",
      "building tree 20 of 100\n",
      "building tree 21 of 100\n",
      "building tree 22 of 100\n",
      "building tree 23 of 100\n",
      "building tree 24 of 100\n",
      "building tree 25 of 100\n",
      "building tree 26 of 100\n",
      "building tree 27 of 100\n",
      "building tree 28 of 100\n",
      "building tree 29 of 100\n",
      "building tree 30 of 100\n",
      "building tree 31 of 100\n",
      "building tree 32 of 100\n",
      "building tree 33 of 100\n",
      "building tree 34 of 100\n",
      "building tree 35 of 100\n",
      "building tree 36 of 100\n",
      "building tree 37 of 100\n",
      "building tree 38 of 100\n",
      "building tree 39 of 100\n",
      "building tree 40 of 100\n",
      "building tree 41 of 100\n",
      "building tree 42 of 100\n",
      "building tree 43 of 100\n",
      "building tree 44 of 100\n",
      "building tree 45 of 100\n",
      "building tree 46 of 100\n",
      "building tree 47 of 100\n",
      "building tree 48 of 100\n",
      "building tree 49 of 100\n",
      "building tree 50 of 100\n",
      "building tree 51 of 100\n",
      "building tree 52 of 100\n",
      "building tree 53 of 100\n",
      "building tree 54 of 100\n",
      "building tree 55 of 100\n",
      "building tree 56 of 100\n",
      "building tree 57 of 100\n",
      "building tree 58 of 100\n",
      "building tree 59 of 100\n",
      "building tree 60 of 100\n",
      "building tree 61 of 100\n",
      "building tree 62 of 100\n",
      "building tree 63 of 100\n",
      "building tree 64 of 100\n",
      "building tree 65 of 100\n",
      "building tree 66 of 100\n",
      "building tree 67 of 100\n",
      "building tree 68 of 100\n",
      "building tree 69 of 100\n",
      "building tree 70 of 100\n",
      "building tree 71 of 100\n",
      "building tree 72 of 100\n",
      "building tree 73 of 100\n",
      "building tree 74 of 100\n",
      "building tree 75 of 100\n",
      "building tree 76 of 100\n",
      "building tree 77 of 100\n",
      "building tree 78 of 100\n",
      "building tree 79 of 100\n",
      "building tree 80 of 100\n",
      "building tree 81 of 100\n",
      "building tree 82 of 100\n",
      "building tree 83 of 100\n",
      "building tree 84 of 100\n",
      "building tree 85 of 100\n",
      "building tree 86 of 100\n",
      "building tree 87 of 100\n",
      "building tree 88 of 100\n",
      "building tree 89 of 100\n",
      "building tree 90 of 100\n",
      "building tree 91 of 100\n",
      "building tree 92 of 100\n",
      "building tree 93 of 100\n",
      "building tree 94 of 100\n",
      "building tree 95 of 100\n",
      "building tree 96 of 100\n",
      "building tree 97 of 100\n",
      "building tree 98 of 100\n",
      "building tree 99 of 100\n",
      "building tree 100 of 100\n"
     ]
    },
    {
     "name": "stderr",
     "output_type": "stream",
     "text": [
      "[Parallel(n_jobs=1)]: Done 100 out of 100 | elapsed:    2.1s finished\n",
      "/jupyter/venv/lib64/python3.6/site-packages/sklearn/neural_network/_multilayer_perceptron.py:617: ConvergenceWarning: Stochastic Optimizer: Maximum iterations (200) reached and the optimization hasn't converged yet.\n",
      "  % self.max_iter, ConvergenceWarning)\n"
     ]
    },
    {
     "data": {
      "text/plain": [
       "VotingClassifier(estimators=[('KNN',\n",
       "                              KNeighborsClassifier(metric='cosine',\n",
       "                                                   n_neighbors=28)),\n",
       "                             ('KNC', NearestCentroid()),\n",
       "                             ('RF',\n",
       "                              RandomForestClassifier(max_features='sqrt',\n",
       "                                                     verbose=3)),\n",
       "                             ('DT', DecisionTreeClassifier(max_leaf_nodes=50)),\n",
       "                             ('PA',\n",
       "                              PassiveAggressiveClassifier(early_stopping=True,\n",
       "                                                          max_iter=100,\n",
       "                                                          warm_start=True)),\n",
       "                             ('LOG',\n",
       "                              LogisticRegression(solver='newton-cg',\n",
       "                                                 warm_start=True)),\n",
       "                             ('MLP',\n",
       "                              MLPClassifier(alpha=0.05,\n",
       "                                            hidden_layer_sizes=(50, 100, 50))),\n",
       "                             ('NB', GaussianNB(var_smoothing=1.0)),\n",
       "                             ('SVM', SVC(C=10, gamma='auto'))])"
      ]
     },
     "execution_count": 105,
     "metadata": {},
     "output_type": "execute_result"
    }
   ],
   "source": [
    "VC=VotingClassifier(estimators=[('KNN',KNN),('KNC',KNC),('RF',RF),('DT',DT),('PA',PA),('LOG',LOG),('MLP',MLP),('NB',NB),('SVM',SVM)],\n",
    "                   )\n",
    "\n",
    "VC.fit(scaler_X_train,y_train)\n"
   ]
  },
  {
   "cell_type": "code",
   "execution_count": 106,
   "metadata": {},
   "outputs": [
    {
     "name": "stderr",
     "output_type": "stream",
     "text": [
      "[Parallel(n_jobs=1)]: Using backend SequentialBackend with 1 concurrent workers.\n",
      "[Parallel(n_jobs=1)]: Done   1 out of   1 | elapsed:    0.0s remaining:    0.0s\n",
      "[Parallel(n_jobs=1)]: Done   2 out of   2 | elapsed:    0.0s remaining:    0.0s\n",
      "[Parallel(n_jobs=1)]: Done 100 out of 100 | elapsed:    0.4s finished\n"
     ]
    },
    {
     "data": {
      "text/plain": [
       "0.8861309523809524"
      ]
     },
     "execution_count": 106,
     "metadata": {},
     "output_type": "execute_result"
    }
   ],
   "source": [
    "from sklearn.metrics import accuracy_score\n",
    "labels_train_vc = VC.predict(scaler_X_train)\n",
    "accuracy_score(y_train, labels_train_vc)"
   ]
  },
  {
   "cell_type": "code",
   "execution_count": 107,
   "metadata": {},
   "outputs": [
    {
     "name": "stderr",
     "output_type": "stream",
     "text": [
      "[Parallel(n_jobs=1)]: Using backend SequentialBackend with 1 concurrent workers.\n",
      "[Parallel(n_jobs=1)]: Done   1 out of   1 | elapsed:    0.0s remaining:    0.0s\n",
      "[Parallel(n_jobs=1)]: Done   2 out of   2 | elapsed:    0.0s remaining:    0.0s\n",
      "[Parallel(n_jobs=1)]: Done 100 out of 100 | elapsed:    0.2s finished\n"
     ]
    },
    {
     "data": {
      "text/plain": [
       "0.8539285714285715"
      ]
     },
     "execution_count": 107,
     "metadata": {},
     "output_type": "execute_result"
    }
   ],
   "source": [
    "labels_val_vc = VC.predict(scaler_X_val)\n",
    "accuracy_score(y_val, labels_val_vc)"
   ]
  },
  {
   "cell_type": "code",
   "execution_count": 108,
   "metadata": {},
   "outputs": [
    {
     "data": {
      "text/plain": [
       "VotingClassifier(estimators=[('DT', DecisionTreeClassifier(max_leaf_nodes=50)),\n",
       "                             ('GB',\n",
       "                              GradientBoostingClassifier(learning_rate=0.25))])"
      ]
     },
     "execution_count": 108,
     "metadata": {},
     "output_type": "execute_result"
    }
   ],
   "source": [
    "VC=VotingClassifier(estimators=[('DT',DT),('GB',GB)] )\n",
    "\n",
    "VC.fit(scaler_X_train,y_train)\n"
   ]
  },
  {
   "cell_type": "code",
   "execution_count": 109,
   "metadata": {},
   "outputs": [
    {
     "data": {
      "text/plain": [
       "0.8719642857142857"
      ]
     },
     "execution_count": 109,
     "metadata": {},
     "output_type": "execute_result"
    }
   ],
   "source": [
    "from sklearn.metrics import accuracy_score\n",
    "labels_train_vc = VC.predict(scaler_X_train)\n",
    "accuracy_score(y_train, labels_train_vc)"
   ]
  },
  {
   "cell_type": "code",
   "execution_count": 110,
   "metadata": {},
   "outputs": [
    {
     "data": {
      "text/plain": [
       "0.8635714285714285"
      ]
     },
     "execution_count": 110,
     "metadata": {},
     "output_type": "execute_result"
    }
   ],
   "source": [
    "labels_val_vc = VC.predict(scaler_X_val)\n",
    "accuracy_score(y_val, labels_val_vc)"
   ]
  },
  {
   "cell_type": "markdown",
   "metadata": {},
   "source": [
    "#### Gradient Boost Classifier"
   ]
  },
  {
   "cell_type": "code",
   "execution_count": 111,
   "metadata": {},
   "outputs": [],
   "source": [
    "#{'learning_rate': 0.1,\n",
    "# 'loss': 'exponential',\n",
    "# 'max_depth': 5,\n",
    "# 'max_features': 'log2',\n",
    "# 'n_estimators': 100,\n",
    "# 'warm_start': True}"
   ]
  },
  {
   "cell_type": "code",
   "execution_count": 112,
   "metadata": {},
   "outputs": [],
   "source": [
    "#GBC= GradientBoostingClassifier()\n",
    "\n",
    "#GBC_parameters={'loss' : ['deviance', 'exponential'],\n",
    "#                  'learning_rate' : (0.01, 0.1, 1),\n",
    "#                  'n_estimators' : np.arange(100, 400, 100),\n",
    "#                  'max_depth' : (5, 10, 15, 20, 30),\n",
    "#                  'max_features' : ['auto', 'log2', None],\n",
    "#                  'warm_start' : [True, False]}\n",
    "\n",
    "#GBD_grid=GridSearchCV(estimator=GBC,param_grid=GBC_parameters,cv=cv,scoring='accuracy',verbose=1,n_jobs=-1)\n",
    "#GBD_grid.fit(scaler_X_train,y_train)\n",
    "#GBD_grid.best_params_"
   ]
  },
  {
   "cell_type": "code",
   "execution_count": 47,
   "metadata": {},
   "outputs": [
    {
     "name": "stdout",
     "output_type": "stream",
     "text": [
      "0.8702380952380953\n",
      "0.8657142857142858\n"
     ]
    }
   ],
   "source": [
    "GB = GradientBoostingClassifier(learning_rate=0.1, loss='exponential',max_depth=5,max_features='log2', n_estimators=100, \n",
    "                                warm_start=True).fit(scaler_X_train,y_train)\n",
    "print(GB.score(scaler_X_train, y_train))\n",
    "print(GB.score(scaler_X_val, y_val))"
   ]
  },
  {
   "cell_type": "markdown",
   "metadata": {},
   "source": [
    "# Stacking Classifier"
   ]
  },
  {
   "cell_type": "code",
   "execution_count": 113,
   "metadata": {},
   "outputs": [],
   "source": [
    "#from sklearn.metrics import accuracy_score"
   ]
  },
  {
   "cell_type": "code",
   "execution_count": 114,
   "metadata": {},
   "outputs": [],
   "source": [
    "#SC = StackingClassifier(estimators=[('KNN',KNN),('KNC',KNC),('RF',RF),('DT',DT),('PA',PA),('LOG',LOG),('MLP',MLP),('NB',NB),('SVM',SVM),('GB',GB)], final_estimator=GB).fit(scaler_X_train, y_train)"
   ]
  },
  {
   "cell_type": "code",
   "execution_count": 115,
   "metadata": {},
   "outputs": [],
   "source": [
    "#labels_train_sc = SC.predict(scaler_X_train)\n",
    "#accuracy_score(y_train, labels_train_sc)"
   ]
  },
  {
   "cell_type": "code",
   "execution_count": 116,
   "metadata": {},
   "outputs": [],
   "source": [
    "#labels_val_sc = SC.predict(scaler_X_val)\n",
    "#accuracy_score(y_val, labels_val_sc)"
   ]
  },
  {
   "cell_type": "code",
   "execution_count": 117,
   "metadata": {},
   "outputs": [],
   "source": [
    "#SC = StackingClassifier(estimators=[('KNN',KNN),('KNC',KNC),('RF',RF),('DT',DT),('PA',PA),('LOG',LOG),('MLP',MLP),('NB',NB),('SVM',SVM)], final_estimator=MLP).fit(scaler_X_train, y_train)"
   ]
  },
  {
   "cell_type": "code",
   "execution_count": 118,
   "metadata": {},
   "outputs": [],
   "source": [
    "#labels_train_sc = SC.predict(scaler_X_train)\n",
    "#accuracy_score(y_train, labels_train_sc)"
   ]
  },
  {
   "cell_type": "code",
   "execution_count": 119,
   "metadata": {},
   "outputs": [],
   "source": [
    "#labels_val_sc = SC.predict(scaler_X_val)\n",
    "#accuracy_score(y_val, labels_val_sc)"
   ]
  },
  {
   "cell_type": "code",
   "execution_count": 120,
   "metadata": {},
   "outputs": [],
   "source": [
    "#SC = StackingClassifier(estimators=[('KNN',KNN),('KNC',KNC),('RF',RF),('DT',DT),('PA',PA),('LOG',LOG),('MLP',MLP),('NB',NB),('SVM',SVM)], final_estimator=KNN).fit(scaler_X_train, y_train)"
   ]
  },
  {
   "cell_type": "code",
   "execution_count": 121,
   "metadata": {},
   "outputs": [],
   "source": [
    "#labels_train_sc = SC.predict(scaler_X_train)\n",
    "#accuracy_score(y_train, labels_train_sc)"
   ]
  },
  {
   "cell_type": "code",
   "execution_count": 122,
   "metadata": {},
   "outputs": [],
   "source": [
    "#labels_val_sc = SC.predict(scaler_X_val)\n",
    "#accuracy_score(y_val, labels_val_sc)"
   ]
  },
  {
   "cell_type": "code",
   "execution_count": 123,
   "metadata": {},
   "outputs": [],
   "source": [
    "#SC = StackingClassifier(estimators=[('KNN',KNN),('KNC',KNC),('RF',RF),('DT',DT),('PA',PA),('LOG',LOG),('MLP',MLP),('NB',NB),('SVM',SVM)], final_estimator=KNC).fit(scaler_X_train, y_train)"
   ]
  },
  {
   "cell_type": "code",
   "execution_count": 124,
   "metadata": {},
   "outputs": [],
   "source": [
    "#labels_train_sc = SC.predict(scaler_X_train)\n",
    "#accuracy_score(y_train, labels_train_sc)"
   ]
  },
  {
   "cell_type": "code",
   "execution_count": 125,
   "metadata": {},
   "outputs": [],
   "source": [
    "#labels_val_sc = SC.predict(scaler_X_val)\n",
    "#accuracy_score(y_val, labels_val_sc)"
   ]
  },
  {
   "cell_type": "code",
   "execution_count": 126,
   "metadata": {},
   "outputs": [],
   "source": [
    "#SC = StackingClassifier(estimators=[('KNN',KNN),('KNC',KNC),('RF',RF),('DT',DT),('PA',PA),('LOG',LOG),('MLP',MLP),('NB',NB),('SVM',SVM)], final_estimator=RF).fit(scaler_X_train, y_train)"
   ]
  },
  {
   "cell_type": "code",
   "execution_count": 127,
   "metadata": {},
   "outputs": [],
   "source": [
    "#labels_train_sc = SC.predict(scaler_X_train)\n",
    "#accuracy_score(y_train, labels_train_sc)"
   ]
  },
  {
   "cell_type": "code",
   "execution_count": 128,
   "metadata": {},
   "outputs": [],
   "source": [
    "#labels_val_sc = SC.predict(scaler_X_val)\n",
    "#accuracy_score(y_val, labels_val_sc)"
   ]
  },
  {
   "cell_type": "code",
   "execution_count": 129,
   "metadata": {},
   "outputs": [],
   "source": [
    "#SC = StackingClassifier(estimators=[('KNN',KNN),('KNC',KNC),('RF',RF),('DT',DT),('PA',PA),('LOG',LOG),('MLP',MLP),('NB',NB),('SVM',SVM)], final_estimator=PA).fit(scaler_X_train, y_train)"
   ]
  },
  {
   "cell_type": "code",
   "execution_count": 130,
   "metadata": {},
   "outputs": [],
   "source": [
    "#labels_train_sc = SC.predict(scaler_X_train)\n",
    "#accuracy_score(y_train, labels_train_sc)"
   ]
  },
  {
   "cell_type": "code",
   "execution_count": 131,
   "metadata": {},
   "outputs": [],
   "source": [
    "#labels_val_sc = SC.predict(scaler_X_val)\n",
    "#accuracy_score(y_val, labels_val_sc)"
   ]
  },
  {
   "cell_type": "code",
   "execution_count": 132,
   "metadata": {},
   "outputs": [],
   "source": [
    "#SC = StackingClassifier(estimators=[('KNN',KNN),('KNC',KNC),('RF',RF),('DT',DT),('PA',PA),('LOG',LOG),('MLP',MLP),('NB',NB),('SVM',SVM)], final_estimator=LOG).fit(scaler_X_train, y_train)"
   ]
  },
  {
   "cell_type": "code",
   "execution_count": 133,
   "metadata": {},
   "outputs": [],
   "source": [
    "#labels_train_sc = SC.predict(scaler_X_train)\n",
    "#accuracy_score(y_train, labels_train_sc)"
   ]
  },
  {
   "cell_type": "code",
   "execution_count": 134,
   "metadata": {},
   "outputs": [],
   "source": [
    "#labels_val_sc = SC.predict(scaler_X_val)\n",
    "#accuracy_score(y_val, labels_val_sc)"
   ]
  },
  {
   "cell_type": "code",
   "execution_count": 135,
   "metadata": {},
   "outputs": [],
   "source": [
    "#SC = StackingClassifier(estimators=[('KNN',KNN),('KNC',KNC),('RF',RF),('DT',DT),('PA',PA),('LOG',LOG),('MLP',MLP),('NB',NB),('SVM',SVM)], final_estimator=NB).fit(scaler_X_train, y_train)"
   ]
  },
  {
   "cell_type": "code",
   "execution_count": 136,
   "metadata": {},
   "outputs": [],
   "source": [
    "#labels_train_sc = SC.predict(scaler_X_train)\n",
    "#accuracy_score(y_train, labels_train_sc)"
   ]
  },
  {
   "cell_type": "code",
   "execution_count": 137,
   "metadata": {},
   "outputs": [],
   "source": [
    "#labels_val_sc = SC.predict(scaler_X_val)\n",
    "#accuracy_score(y_val, labels_val_sc)"
   ]
  },
  {
   "cell_type": "code",
   "execution_count": 138,
   "metadata": {},
   "outputs": [],
   "source": [
    "#SC = StackingClassifier(estimators=[('KNN',KNN),('KNC',KNC),('RF',RF),('DT',DT),('PA',PA),('LOG',LOG),('MLP',MLP),('NB',NB),('SVM',SVM)], final_estimator=SVM).fit(scaler_X_train, y_train)"
   ]
  },
  {
   "cell_type": "code",
   "execution_count": 139,
   "metadata": {},
   "outputs": [],
   "source": [
    "#labels_train_sc = SC.predict(scaler_X_train)\n",
    "#accuracy_score(y_train, labels_train_sc)"
   ]
  },
  {
   "cell_type": "code",
   "execution_count": 140,
   "metadata": {},
   "outputs": [],
   "source": [
    "#labels_val_sc = SC.predict(scaler_X_val)\n",
    "#accuracy_score(y_val, labels_val_sc)"
   ]
  },
  {
   "cell_type": "markdown",
   "metadata": {},
   "source": [
    "### Neural Networks"
   ]
  },
  {
   "cell_type": "markdown",
   "metadata": {},
   "source": [
    "#### Neural Network 15 hidden units"
   ]
  },
  {
   "cell_type": "code",
   "execution_count": 142,
   "metadata": {},
   "outputs": [],
   "source": [
    "MLP1 = MLPClassifier(activation='relu', alpha=0.025, batch_size='auto', beta_1=0.9, \n",
    "                     beta_2=0.999, early_stopping=False, epsilon=1e-08,        \n",
    "                     hidden_layer_sizes=(15,), learning_rate='constant',   \n",
    "                     learning_rate_init=0.025007500000000002, max_fun=15000, \n",
    "                     max_iter=800, momentum=0.9, n_iter_no_change=10,      \n",
    "                     nesterovs_momentum=True, power_t=0.5, random_state=15,   \n",
    "                     shuffle=True, solver='adam', tol=0.000505,         \n",
    "                     validation_fraction=0.1, verbose=False, warm_start=True).fit(scaler_X_train, y_train)"
   ]
  },
  {
   "cell_type": "code",
   "execution_count": 143,
   "metadata": {},
   "outputs": [
    {
     "name": "stdout",
     "output_type": "stream",
     "text": [
      "0.8616071428571429\n",
      "0.8560714285714286\n"
     ]
    }
   ],
   "source": [
    "labels_train_mlp1 = MLP1.predict(scaler_X_train)\n",
    "labels_val_mlp1 = MLP1.predict(scaler_X_val)\n",
    "print(accuracy_score(y_train, labels_train_mlp1))\n",
    "print(accuracy_score(y_val, labels_val_mlp1))"
   ]
  },
  {
   "cell_type": "markdown",
   "metadata": {},
   "source": [
    "#### Neural Network 10 hidden units"
   ]
  },
  {
   "cell_type": "code",
   "execution_count": 144,
   "metadata": {},
   "outputs": [],
   "source": [
    "MLP2 = MLPClassifier(activation='relu', alpha=0.032, batch_size='auto', beta_1=0.9,    \n",
    "                      beta_2=0.999, early_stopping=False, epsilon=1e-08,    \n",
    "                      hidden_layer_sizes=(10,), learning_rate='constant', \n",
    "                      learning_rate_init=0.025007500000000002, max_fun=15000,   \n",
    "                      max_iter=800, momentum=0.9, n_iter_no_change=10,           \n",
    "                      nesterovs_momentum=True, power_t=0.5, random_state=15,  \n",
    "                      shuffle=True, solver='adam', tol=0.000505,         \n",
    "                      validation_fraction=0.1, verbose=False, warm_start=True).fit(scaler_X_train, y_train)"
   ]
  },
  {
   "cell_type": "code",
   "execution_count": 145,
   "metadata": {},
   "outputs": [
    {
     "name": "stdout",
     "output_type": "stream",
     "text": [
      "0.8616071428571429\n",
      "0.8548214285714286\n"
     ]
    }
   ],
   "source": [
    "labels_train_mlp2 = MLP2.predict(scaler_X_train)\n",
    "labels_val_mlp2 = MLP2.predict(scaler_X_val)\n",
    "print(accuracy_score(y_train, labels_train_mlp1))\n",
    "print(accuracy_score(y_val, labels_val_mlp2))"
   ]
  },
  {
   "cell_type": "markdown",
   "metadata": {},
   "source": [
    "#### Neural Network 2 hidden layers"
   ]
  },
  {
   "cell_type": "code",
   "execution_count": 146,
   "metadata": {},
   "outputs": [],
   "source": [
    "MLP3 = MLPClassifier(hidden_layer_sizes = (10,34), random_state = 15, warm_start = True, early_stopping=False,          \n",
    "                     max_iter = 5000, activation ='relu', learning_rate = 'constant',\n",
    "                     tol = 1e-05, solver = 'adam').fit(scaler_X_train, y_train)"
   ]
  },
  {
   "cell_type": "code",
   "execution_count": 147,
   "metadata": {},
   "outputs": [
    {
     "name": "stdout",
     "output_type": "stream",
     "text": [
      "0.871904761904762\n",
      "0.8494642857142857\n"
     ]
    }
   ],
   "source": [
    "labels_train_mlp3 = MLP3.predict(scaler_X_train)\n",
    "labels_val_mlp3 = MLP3.predict(scaler_X_val)\n",
    "print(accuracy_score(y_train, labels_train_mlp3))\n",
    "print(accuracy_score(y_val, labels_val_mlp3))"
   ]
  },
  {
   "cell_type": "markdown",
   "metadata": {},
   "source": [
    "## Final Model"
   ]
  },
  {
   "cell_type": "code",
   "execution_count": 148,
   "metadata": {
    "scrolled": true
   },
   "outputs": [
    {
     "name": "stdout",
     "output_type": "stream",
     "text": [
      "10100\n"
     ]
    }
   ],
   "source": [
    "# Use the model to make predictions\n",
    "predicted_income = adaboost_gb.predict(scaler_X_test)\n",
    "# We will look at the predicted prices to ensure we have something sensible.\n",
    "print(len(predicted_income))"
   ]
  },
  {
   "cell_type": "code",
   "execution_count": 149,
   "metadata": {},
   "outputs": [],
   "source": [
    "my_submission = pd.DataFrame()\n",
    "my_submission['CITIZEN_ID'] = test_citizen_id\n",
    "my_submission['Income'] = predicted_income\n",
    "version=1\n",
    "path = r'./submission' + str(version) + '.csv'\n",
    "# you could use any filename. We choose submission here\n",
    "my_submission.to_csv(path, index=False)"
   ]
  },
  {
   "cell_type": "code",
   "execution_count": 150,
   "metadata": {},
   "outputs": [
    {
     "data": {
      "text/plain": [
       "0    8002\n",
       "1    2098\n",
       "Name: Income, dtype: int64"
      ]
     },
     "execution_count": 150,
     "metadata": {},
     "output_type": "execute_result"
    }
   ],
   "source": [
    "my_submission.Income.value_counts()"
   ]
  }
 ],
 "metadata": {
  "kernelspec": {
   "display_name": "Python 3",
   "language": "python",
   "name": "python3"
  },
  "language_info": {
   "codemirror_mode": {
    "name": "ipython",
    "version": 3
   },
   "file_extension": ".py",
   "mimetype": "text/x-python",
   "name": "python",
   "nbconvert_exporter": "python",
   "pygments_lexer": "ipython3",
   "version": "3.8.3"
  }
 },
 "nbformat": 4,
 "nbformat_minor": 4
}
